{
 "cells": [
  {
   "cell_type": "markdown",
   "metadata": {},
   "source": [
    "# Tutorial Python 3.x - Parte 02\n",
    "\n",
    "Neste tutorial iremos discutir o funcionamento de expressões condicionais, de loops, definições de funções e mais."
   ]
  },
  {
   "cell_type": "markdown",
   "metadata": {},
   "source": [
    "## If - Elif - Else \n",
    "\n",
    "A expressão <font size=\"3\">**'if'**</font> é usada para execussões condicionais, ou seja, quando desejamos que parte do código seja executada apenas em situações especificadas.\n",
    "\n",
    "A estrutura da condicional <font size=\"3\">**'if'**</font> é seguindo a sequência exemplificada abaixo:\n",
    "\n",
    "```python\n",
    "if \"expression\":\n",
    "    action\n",
    "```\n",
    "\n",
    "Essa estrutura é composta sempre de uma expressão lógica e de uma ação, que é o código a ser executado. Será então avaliado se a expressão possui o valor de **True** ou **False** e então, caso seja **True**, será executado a ação correspondente.\n",
    "\n",
    "Note que o código correspondente à ação deve estar __identado__, pois é assim que o Python interpreta o que é a ação dentro das rotinas e o que está fora, como mostrado a seguir:\n",
    "\n",
    "```python\n",
    "if True:\n",
    "    print(\"isso está dentro do if.\")\n",
    "print(\"isso está fora do if.\")\n",
    "```\n",
    "\n",
    "Porém, caso queiramos adicionar mais condições, iremos então utilizar do <font size=\"3\">**'elif'**</font>, que basicamente significa \"caso a primeira condição é False, então, se nova condição é True, faremos a seguinte ação\". Por conseguinte, caso queiramos que uma ação seja realizada para qualquer caso que não seja as especificadas anteriormente, seja por \"if\" ou por \"elif\"s, utilizamos então o <font size=\"3\">**'else'**</font>. Assim, temos a seguinte estrutura geral exemplificando:\n",
    "\n",
    "```python\n",
    "if \"condição 1\":\n",
    "    action 1  \n",
    "elif \"condição 2\":\n",
    "    action 2\n",
    "elif \"condição 2\":\n",
    "    action 2\n",
    "else:\n",
    "    action para o resto\n",
    "```\n",
    "\n",
    "Vamos então para os exemplos:"
   ]
  },
  {
   "cell_type": "code",
   "execution_count": 1,
   "metadata": {
    "ExecuteTime": {
     "end_time": "2019-03-27T20:01:19.641843Z",
     "start_time": "2019-03-27T20:01:19.634832Z"
    }
   },
   "outputs": [
    {
     "name": "stdout",
     "output_type": "stream",
     "text": [
      "x é um número ímpar maior do que 5!\n"
     ]
    }
   ],
   "source": [
    "x = 9\n",
    "if x > 5 and x%2==1:\n",
    "    print ('x é um número ímpar maior do que 5!')"
   ]
  },
  {
   "cell_type": "code",
   "execution_count": 2,
   "metadata": {
    "ExecuteTime": {
     "end_time": "2019-03-27T20:01:19.653833Z",
     "start_time": "2019-03-27T20:01:19.644334Z"
    }
   },
   "outputs": [
    {
     "name": "stdout",
     "output_type": "stream",
     "text": [
      "x é um número pequeno!\n"
     ]
    }
   ],
   "source": [
    "x = 4\n",
    "if x > 5:\n",
    "    print ('x é um número grande!')\n",
    "else:\n",
    "    print ('x é um número pequeno!')"
   ]
  },
  {
   "cell_type": "code",
   "execution_count": 3,
   "metadata": {
    "ExecuteTime": {
     "end_time": "2019-03-27T20:01:19.667835Z",
     "start_time": "2019-03-27T20:01:19.655831Z"
    }
   },
   "outputs": [
    {
     "name": "stdout",
     "output_type": "stream",
     "text": [
      "x é um número grande!\n"
     ]
    }
   ],
   "source": [
    "x = 15\n",
    "if x > 20:\n",
    "    print ('x é um número muito grande!')\n",
    "elif x > 10:\n",
    "    print ('x é um número grande!')\n",
    "else:\n",
    "    print ('x é um número pequeno!')"
   ]
  },
  {
   "cell_type": "markdown",
   "metadata": {},
   "source": [
    "Podemos também colocar mais condições dentro da ação de uma condição, e assim por diante:"
   ]
  },
  {
   "cell_type": "code",
   "execution_count": 4,
   "metadata": {
    "ExecuteTime": {
     "end_time": "2019-03-27T20:01:19.679831Z",
     "start_time": "2019-03-27T20:01:19.671334Z"
    }
   },
   "outputs": [
    {
     "name": "stdout",
     "output_type": "stream",
     "text": [
      "x é um número grande!\n"
     ]
    }
   ],
   "source": [
    "x = 15\n",
    "if x > 20:\n",
    "    print ('x é um número muito grande!')\n",
    "else:\n",
    "    if x > 10:\n",
    "        print ('x é um número grande!')\n",
    "    else:\n",
    "        print ('x é um número pequeno!')"
   ]
  },
  {
   "cell_type": "markdown",
   "metadata": {},
   "source": [
    "Exemplos de identação:"
   ]
  },
  {
   "cell_type": "code",
   "execution_count": 5,
   "metadata": {
    "ExecuteTime": {
     "end_time": "2019-03-27T20:01:19.693332Z",
     "start_time": "2019-03-27T20:01:19.683332Z"
    }
   },
   "outputs": [
    {
     "name": "stdout",
     "output_type": "stream",
     "text": [
      "11\n"
     ]
    }
   ],
   "source": [
    "x = 10\n",
    "command = 'add'\n",
    "if command =='add':\n",
    "    x = x + 1\n",
    "print (x)"
   ]
  },
  {
   "cell_type": "code",
   "execution_count": 6,
   "metadata": {
    "ExecuteTime": {
     "end_time": "2019-03-27T20:01:19.706331Z",
     "start_time": "2019-03-27T20:01:19.694831Z"
    }
   },
   "outputs": [
    {
     "name": "stdout",
     "output_type": "stream",
     "text": [
      "10\n"
     ]
    }
   ],
   "source": [
    "x = 10\n",
    "command = 'nothing'\n",
    "if command =='add':\n",
    "    x = x + 1\n",
    "print (x)"
   ]
  },
  {
   "cell_type": "code",
   "execution_count": 7,
   "metadata": {
    "ExecuteTime": {
     "end_time": "2019-03-27T20:01:19.718834Z",
     "start_time": "2019-03-27T20:01:19.708336Z"
    }
   },
   "outputs": [],
   "source": [
    "x = 10\n",
    "command = 'nothing'\n",
    "if command =='add':\n",
    "    x = x + 1\n",
    "    print (x)"
   ]
  },
  {
   "cell_type": "markdown",
   "metadata": {},
   "source": [
    "## Loops (for, while,for,while,for...)\n",
    "\n",
    "Loops, como o próprio nome sugere, são expressões para realizar repetições no código, assim a mesma parte do código pode ser executada várias vezes. Isso é importante em casos que queremos realizar a mesma ação diversas vezes ou um conjunto de ações similares, sem precisar escrever o código várias vezes. As expressões de loop no Python são **while** e **for**.\n",
    "\n",
    "\n",
    "A estrutura do **for** está mostrada abaixo. O código dentro do for será executado uma vez **para cada elemento target da sequencia**. A variável em target_list assumirá cada valor dentro da expression_list em cada iteração do loop em sequência até que a expression_list acabe. A target_list é geralmente usada como variável dentro do loop, modificando o resultado da ação para cada loop, caso contrário, o loop realizaria a mesma ação várias vezes. A expression_list é onde se determina quais valores a target_list vai assumir. A expression_list pode ser uma estrutura sequencial (string, tuple ou list) ou um objeto iterável (serão discutidos na parte 03). \n",
    "\n",
    "#### for\n",
    "```python\n",
    "for \"target_list\" in \"expression_list\": \n",
    "    action looped\n",
    "else: \n",
    "    action otherwise\n",
    "```\n",
    "\n",
    "A estrutura do **while** está mostrada abaixo. O código dentro di while será executado **enquanto a expression for verdadeira**. Seu comportamento é parecido com o if, porém no if a ação é realizada apenas uma vez. Portanto, o while necessita que a ação dentro do loop realize alguma mudança no valor da expressão avaliada para que em algum momento o loop seja quebrado. Caso contrário, teremos então o famoso **loop infinito**.\n",
    "\n",
    "#### while\n",
    "```python\n",
    "while \"expression\" :\n",
    "    action looped\n",
    "else:\n",
    "    action otherwise\n",
    "```\n",
    "\n",
    "Note que é possível utilizar [a expressão **else** juntamente com o for e o while](https://stackoverflow.com/questions/3295938/else-clause-on-python-while-statement).\n",
    "\n",
    "Vamos então aos exemplos:"
   ]
  },
  {
   "cell_type": "code",
   "execution_count": 8,
   "metadata": {
    "ExecuteTime": {
     "end_time": "2019-03-27T20:01:19.733833Z",
     "start_time": "2019-03-27T20:01:19.720831Z"
    }
   },
   "outputs": [
    {
     "name": "stdout",
     "output_type": "stream",
     "text": [
      "Hello John!\n",
      "Hello Paul!\n",
      "Hello George!\n",
      "Hello Ringo!\n"
     ]
    }
   ],
   "source": [
    "first_names = ['John', 'Paul', 'George', 'Ringo']\n",
    "for name in first_names:\n",
    "    print(\"Hello \" + name + \"!\")"
   ]
  },
  {
   "cell_type": "markdown",
   "metadata": {},
   "source": [
    "Abaixo utilizamos a classe [**range(a,b)**](https://docs.python.org/3/library/stdtypes.html#range) para criar um iterador que retorna os valores inteiros $a \\leq i<b$.\n",
    "\n",
    "```python\n",
    "range(stop)\n",
    "range(start, stop[, step])\n",
    "```\n",
    "\n",
    "Podemos iniciar a classe com apenas o final e será criado uma sequência de 0 ao final, com acréscimos (step) igual a 1, ou incializá-la com o começo e o final, e opcionalmente também o step."
   ]
  },
  {
   "cell_type": "code",
   "execution_count": 9,
   "metadata": {
    "ExecuteTime": {
     "end_time": "2019-03-27T20:01:19.748831Z",
     "start_time": "2019-03-27T20:01:19.735830Z"
    },
    "scrolled": true
   },
   "outputs": [
    {
     "name": "stdout",
     "output_type": "stream",
     "text": [
      "2\n",
      "3\n",
      "4\n",
      "5\n",
      "6\n",
      "7\n",
      "8\n",
      "9\n"
     ]
    }
   ],
   "source": [
    "for i in range (2, 10):\n",
    "    print (i)"
   ]
  },
  {
   "cell_type": "code",
   "execution_count": 10,
   "metadata": {
    "ExecuteTime": {
     "end_time": "2019-03-27T20:01:19.761331Z",
     "start_time": "2019-03-27T20:01:19.750332Z"
    }
   },
   "outputs": [
    {
     "name": "stdout",
     "output_type": "stream",
     "text": [
      "-10\n",
      "-8\n",
      "-6\n",
      "-4\n",
      "-2\n",
      "0\n",
      "2\n",
      "4\n",
      "6\n",
      "8\n"
     ]
    }
   ],
   "source": [
    "for i in range (-10, 10, 2): # também podemos criar sequencias com acrécimos diferentes de 1\n",
    "    print (i)"
   ]
  },
  {
   "cell_type": "code",
   "execution_count": 11,
   "metadata": {
    "ExecuteTime": {
     "end_time": "2019-03-27T20:01:19.774833Z",
     "start_time": "2019-03-27T20:01:19.763833Z"
    }
   },
   "outputs": [
    {
     "name": "stdout",
     "output_type": "stream",
     "text": [
      "8\n",
      "6\n",
      "4\n",
      "2\n",
      "0\n",
      "-2\n",
      "-4\n",
      "-6\n",
      "-8\n",
      "-10\n"
     ]
    }
   ],
   "source": [
    "for i in range (8, -12, -2):\n",
    "    print (i)"
   ]
  },
  {
   "cell_type": "code",
   "execution_count": 12,
   "metadata": {
    "ExecuteTime": {
     "end_time": "2019-03-27T20:01:19.791831Z",
     "start_time": "2019-03-27T20:01:19.776831Z"
    }
   },
   "outputs": [
    {
     "name": "stdout",
     "output_type": "stream",
     "text": [
      "0*0=0\n",
      "0*1=0\n",
      "0*2=0\n",
      "1*0=0\n",
      "1*1=1\n",
      "1*2=2\n",
      "2*0=0\n",
      "2*1=2\n",
      "2*2=4\n",
      "3*0=0\n",
      "3*1=3\n",
      "3*2=6\n"
     ]
    }
   ],
   "source": [
    "for x in range (4):\n",
    "    for y in range (3):\n",
    "        z= x*y\n",
    "        print (f\"{x}*{y}={z}\")"
   ]
  },
  {
   "cell_type": "markdown",
   "metadata": {},
   "source": [
    "Podemos utilizar mais de uma variável iteradora. Para este caso, uma opção é utilizar o **enumerate()** que retorna ao mesmo tempo o índice e o valor."
   ]
  },
  {
   "cell_type": "code",
   "execution_count": 13,
   "metadata": {
    "ExecuteTime": {
     "end_time": "2019-03-27T20:01:19.806835Z",
     "start_time": "2019-03-27T20:01:19.793832Z"
    }
   },
   "outputs": [
    {
     "name": "stdout",
     "output_type": "stream",
     "text": [
      "Name 0: John\n",
      "Name 1: Paul\n",
      "Name 2: George\n",
      "Name 3: Ringo\n"
     ]
    }
   ],
   "source": [
    "for index, name in enumerate(first_names):\n",
    "    print(\"Name \"+ str(index) + \": \" + name)"
   ]
  },
  {
   "cell_type": "code",
   "execution_count": 14,
   "metadata": {
    "ExecuteTime": {
     "end_time": "2019-03-27T20:01:19.829836Z",
     "start_time": "2019-03-27T20:01:19.808333Z"
    }
   },
   "outputs": [
    {
     "data": {
      "text/plain": [
       "{'John': 4, 'Paul': 4, 'George': 6, 'Ringo': 5}"
      ]
     },
     "execution_count": 14,
     "metadata": {},
     "output_type": "execute_result"
    }
   ],
   "source": [
    "name_lengths = {}\n",
    "for name in first_names:\n",
    "    name_lengths [name] = len (name)\n",
    "name_lengths"
   ]
  },
  {
   "cell_type": "code",
   "execution_count": 15,
   "metadata": {
    "ExecuteTime": {
     "end_time": "2019-03-27T20:01:19.847331Z",
     "start_time": "2019-03-27T20:01:19.831832Z"
    },
    "scrolled": false
   },
   "outputs": [
    {
     "name": "stdout",
     "output_type": "stream",
     "text": [
      "John -> 4\n",
      "Paul -> 4\n",
      "George -> 6\n",
      "Ringo -> 5\n"
     ]
    }
   ],
   "source": [
    "## loop em um dicionário\n",
    "for name, length in name_lengths.items():\n",
    "    print (name + \" -> \" + str(length))"
   ]
  },
  {
   "cell_type": "code",
   "execution_count": 16,
   "metadata": {
    "ExecuteTime": {
     "end_time": "2019-03-27T20:01:19.858833Z",
     "start_time": "2019-03-27T20:01:19.849832Z"
    },
    "scrolled": false
   },
   "outputs": [
    {
     "name": "stdout",
     "output_type": "stream",
     "text": [
      "e\n",
      "x\n",
      "a\n",
      "m\n",
      "p\n",
      "l\n",
      "e\n"
     ]
    }
   ],
   "source": [
    "## loop em uma string\n",
    "x = \"example\"\n",
    "for letter in x:\n",
    "    print (letter)"
   ]
  },
  {
   "cell_type": "code",
   "execution_count": 17,
   "metadata": {
    "ExecuteTime": {
     "end_time": "2019-03-27T20:01:19.877334Z",
     "start_time": "2019-03-27T20:01:19.861833Z"
    }
   },
   "outputs": [
    {
     "name": "stdout",
     "output_type": "stream",
     "text": [
      "2\n",
      "4\n",
      "8\n",
      "16\n",
      "32\n",
      "64\n",
      "128\n"
     ]
    }
   ],
   "source": [
    "x = 1\n",
    "while x < 100:\n",
    "    x = x * 2\n",
    "    print(x)"
   ]
  },
  {
   "cell_type": "code",
   "execution_count": 18,
   "metadata": {
    "ExecuteTime": {
     "end_time": "2019-03-27T20:01:19.895830Z",
     "start_time": "2019-03-27T20:01:19.887331Z"
    },
    "scrolled": true
   },
   "outputs": [
    {
     "name": "stdout",
     "output_type": "stream",
     "text": [
      "2\n",
      "4\n",
      "8\n",
      "16\n",
      "32\n",
      "64\n",
      "128\n"
     ]
    }
   ],
   "source": [
    "x = 1\n",
    "while True:\n",
    "    if x > 100:\n",
    "        break\n",
    "    x = x * 2\n",
    "    print(x)"
   ]
  },
  {
   "cell_type": "markdown",
   "metadata": {},
   "source": [
    "## Palavras Reservadas\n",
    "### [Pass](https://docs.python.org/3/reference/simple_stmts.html#the-pass-statement)\n",
    "O **pass** é utilizado quando se deseja definir ou declarar alguma coisa, mas em que nenhuma operação aconteça. Literalmente não faz nada.\n",
    "\n",
    "### [Break](https://docs.python.org/3/reference/simple_stmts.html#the-break-statement)\n",
    "O **break** é uma palavra reservada que quebra o loop mais próximo, pulando também o **else** opcional caso exista.\n",
    "\n",
    "### [Continue](https://docs.python.org/3/reference/simple_stmts.html#the-continue-statement)\n",
    "O **continue** é uma palavra reservada que pula para a próxima iteração do loop mais próximo.\n",
    "\n"
   ]
  },
  {
   "cell_type": "code",
   "execution_count": 19,
   "metadata": {
    "ExecuteTime": {
     "end_time": "2019-03-27T20:01:19.911831Z",
     "start_time": "2019-03-27T20:01:19.898833Z"
    },
    "scrolled": true
   },
   "outputs": [
    {
     "name": "stdout",
     "output_type": "stream",
     "text": [
      "Here our code continues...\n"
     ]
    }
   ],
   "source": [
    "x = 20\n",
    "if x > 10:\n",
    "    #We will implement this later\n",
    "    pass\n",
    "print (\"Here our code continues...\")"
   ]
  },
  {
   "cell_type": "code",
   "execution_count": 20,
   "metadata": {
    "ExecuteTime": {
     "end_time": "2019-03-27T20:01:19.924332Z",
     "start_time": "2019-03-27T20:01:19.913831Z"
    }
   },
   "outputs": [
    {
     "name": "stdout",
     "output_type": "stream",
     "text": [
      "Name 0: John\n",
      "Name 1: Paul\n"
     ]
    }
   ],
   "source": [
    "for index, name in enumerate (first_names):\n",
    "    print(\"Name \"+ str(index) + \": \" + name)\n",
    "    if name == \"Paul\":\n",
    "        break"
   ]
  },
  {
   "cell_type": "code",
   "execution_count": 21,
   "metadata": {
    "ExecuteTime": {
     "end_time": "2019-03-27T20:01:19.936831Z",
     "start_time": "2019-03-27T20:01:19.926334Z"
    }
   },
   "outputs": [
    {
     "name": "stdout",
     "output_type": "stream",
     "text": [
      "1\n",
      "9\n",
      "25\n",
      "49\n",
      "81\n"
     ]
    }
   ],
   "source": [
    "for x in range(10):\n",
    "    y=x*x\n",
    "    if y%2==0:\n",
    "        continue #jumps for the next iteration\n",
    "        #break stops the loop\n",
    "    print(y)"
   ]
  },
  {
   "cell_type": "markdown",
   "metadata": {
    "collapsed": true
   },
   "source": [
    "## [Imports](https://docs.python.org/3/reference/simple_stmts.html#the-import-statement)\n",
    "\n",
    "O **import** é usado para utilizar de módulos que não são *built-in* do python.\n",
    "\n",
    "Com ele conseguimos importar classes e funções de fora do python e utilizá-las no seu próprio código, permitindo uma programação de mais alto nível e facilidade principalmente ao utilizar de bibliotecas bem documentadas.\n",
    "\n",
    "Abaixo alguns exemplos de imports."
   ]
  },
  {
   "cell_type": "code",
   "execution_count": 22,
   "metadata": {
    "ExecuteTime": {
     "end_time": "2019-03-27T20:01:20.769902Z",
     "start_time": "2019-03-27T20:01:19.939832Z"
    }
   },
   "outputs": [],
   "source": [
    "import math                # import da biblioteca math e a chamamos por math\n",
    "import numpy as np         # import da biblioteca numpy e a chamamosh por np\n",
    "from scipy import sparse   # import da class sparse do scipy"
   ]
  },
  {
   "cell_type": "markdown",
   "metadata": {},
   "source": [
    "## [Functions](https://docs.python.org/3/reference/compound_stmts.html#function-definitions)\n",
    "\n",
    "A estrutura mais básica para declaração de uma função é mostrada abaixo. O termo em func_name é o identificados da função ao longo do código. Os params são os parametros da função, eles podem ser inputs opcionais (declarando algum valor padrão para o parâmetro caso não tenha sido explicitado o valor do parâmetro quando a função foi chamada) ou inputs obrigatórios (sempre devem ser inputados pelo usuário para usar a função). Uma função não precisa ter parâmetros. Ainda pode se acrescentado o return para que a função retorne algum valor.\n",
    "\n",
    "```python\n",
    "def func_name ([params]):\n",
    "    func_action\n",
    "    return func_return\n",
    "```\n",
    "\n",
    "Ao definir a função, o código do corpo da função não será executado, apenas será executado quando a função é chamada."
   ]
  },
  {
   "cell_type": "code",
   "execution_count": 23,
   "metadata": {
    "ExecuteTime": {
     "end_time": "2019-03-27T20:01:20.775400Z",
     "start_time": "2019-03-27T20:01:20.771899Z"
    }
   },
   "outputs": [],
   "source": [
    "# função que incrementa 1 ao valor inputado\n",
    "\n",
    "def increment_function(x):\n",
    "    x = x + 1\n",
    "    return x"
   ]
  },
  {
   "cell_type": "code",
   "execution_count": 24,
   "metadata": {
    "ExecuteTime": {
     "end_time": "2019-03-27T20:01:20.787899Z",
     "start_time": "2019-03-27T20:01:20.776900Z"
    }
   },
   "outputs": [
    {
     "data": {
      "text/plain": [
       "3"
      ]
     },
     "execution_count": 24,
     "metadata": {},
     "output_type": "execute_result"
    }
   ],
   "source": [
    "# chamada da função com o input 2\n",
    "y = increment_function(2)\n",
    "y"
   ]
  },
  {
   "cell_type": "code",
   "execution_count": 25,
   "metadata": {
    "ExecuteTime": {
     "end_time": "2019-03-27T20:01:20.798902Z",
     "start_time": "2019-03-27T20:01:20.789399Z"
    }
   },
   "outputs": [],
   "source": [
    "def increment_and_print_function(x):\n",
    "    x = x + 1\n",
    "    print (x)\n",
    "    return x"
   ]
  },
  {
   "cell_type": "code",
   "execution_count": 26,
   "metadata": {
    "ExecuteTime": {
     "end_time": "2019-03-27T20:01:20.812403Z",
     "start_time": "2019-03-27T20:01:20.800399Z"
    }
   },
   "outputs": [
    {
     "name": "stdout",
     "output_type": "stream",
     "text": [
      "6\n"
     ]
    }
   ],
   "source": [
    "y = increment_and_print_function(5)"
   ]
  },
  {
   "cell_type": "code",
   "execution_count": 27,
   "metadata": {
    "ExecuteTime": {
     "end_time": "2019-03-27T20:01:20.829899Z",
     "start_time": "2019-03-27T20:01:20.813899Z"
    }
   },
   "outputs": [],
   "source": [
    "# exemplo de função sem parâmetros e sem valor retornado\n",
    "def print_full_address ():\n",
    "    print (\"Av. Brg. Faria Lima\")\n",
    "    print (\"Rua Prof. Atílio Innocenti\")\n",
    "    print (\"Av. Pres. Juscelino Kubitschek\")"
   ]
  },
  {
   "cell_type": "code",
   "execution_count": 28,
   "metadata": {
    "ExecuteTime": {
     "end_time": "2019-03-27T20:01:20.850902Z",
     "start_time": "2019-03-27T20:01:20.831400Z"
    }
   },
   "outputs": [
    {
     "name": "stdout",
     "output_type": "stream",
     "text": [
      "Av. Brg. Faria Lima\n",
      "Rua Prof. Atílio Innocenti\n",
      "Av. Pres. Juscelino Kubitschek\n"
     ]
    }
   ],
   "source": [
    "print_full_address()"
   ]
  },
  {
   "cell_type": "code",
   "execution_count": 29,
   "metadata": {
    "ExecuteTime": {
     "end_time": "2019-03-27T20:01:20.862399Z",
     "start_time": "2019-03-27T20:01:20.852900Z"
    }
   },
   "outputs": [
    {
     "name": "stdout",
     "output_type": "stream",
     "text": [
      "Av. Brg. Faria Lima\n",
      "Rua Prof. Atílio Innocenti\n",
      "Av. Pres. Juscelino Kubitschek\n",
      "______\n",
      "None\n"
     ]
    }
   ],
   "source": [
    "x = print_full_address()\n",
    "print (\"______\")\n",
    "print (x) # como a função não tem return, ela terá o valor de None"
   ]
  },
  {
   "cell_type": "markdown",
   "metadata": {},
   "source": [
    "### Auto-unpacking\n",
    "Não é necessário explicitar todos os parâmetros da função. Veja exemplo"
   ]
  },
  {
   "cell_type": "code",
   "execution_count": 30,
   "metadata": {
    "ExecuteTime": {
     "end_time": "2019-03-27T20:01:20.877401Z",
     "start_time": "2019-03-27T20:01:20.863900Z"
    }
   },
   "outputs": [],
   "source": [
    "def my_sum (*args):\n",
    "    result = 0\n",
    "    for element in args:\n",
    "        result += element\n",
    "    return result"
   ]
  },
  {
   "cell_type": "code",
   "execution_count": 31,
   "metadata": {
    "ExecuteTime": {
     "end_time": "2019-03-27T20:01:20.896899Z",
     "start_time": "2019-03-27T20:01:20.879400Z"
    }
   },
   "outputs": [
    {
     "data": {
      "text/plain": [
       "12"
      ]
     },
     "execution_count": 31,
     "metadata": {},
     "output_type": "execute_result"
    }
   ],
   "source": [
    "my_sum (2,2,3,4,1)"
   ]
  },
  {
   "cell_type": "markdown",
   "metadata": {},
   "source": [
    "Keyword arguments permitem inputar qualquer outro parâmetro."
   ]
  },
  {
   "cell_type": "code",
   "execution_count": 32,
   "metadata": {
    "ExecuteTime": {
     "end_time": "2019-03-27T20:01:20.907903Z",
     "start_time": "2019-03-27T20:01:20.899402Z"
    }
   },
   "outputs": [],
   "source": [
    "def weird_function (x,y,**kwargs):\n",
    "    for key in kwargs:\n",
    "        print (\"Another parameter:\", key)\n",
    "        print (\"the value of this parameter is\", kwargs[key])\n",
    "    return x+y"
   ]
  },
  {
   "cell_type": "code",
   "execution_count": 33,
   "metadata": {
    "ExecuteTime": {
     "end_time": "2019-03-27T20:01:20.928907Z",
     "start_time": "2019-03-27T20:01:20.909400Z"
    },
    "scrolled": true
   },
   "outputs": [
    {
     "name": "stdout",
     "output_type": "stream",
     "text": [
      "Another parameter: another_param\n",
      "the value of this parameter is 5\n",
      "Another parameter: yet_another_param\n",
      "the value of this parameter is 10\n"
     ]
    },
    {
     "data": {
      "text/plain": [
       "15"
      ]
     },
     "execution_count": 33,
     "metadata": {},
     "output_type": "execute_result"
    }
   ],
   "source": [
    "weird_function (10, 5, another_param=5, yet_another_param=10)"
   ]
  },
  {
   "cell_type": "code",
   "execution_count": 34,
   "metadata": {
    "ExecuteTime": {
     "end_time": "2019-03-27T20:01:20.941907Z",
     "start_time": "2019-03-27T20:01:20.930409Z"
    }
   },
   "outputs": [
    {
     "name": "stdout",
     "output_type": "stream",
     "text": [
      "Another parameter: another_param\n",
      "the value of this parameter is 5\n",
      "Another parameter: yet_another_param\n",
      "the value of this parameter is 10\n"
     ]
    },
    {
     "data": {
      "text/plain": [
       "15"
      ]
     },
     "execution_count": 34,
     "metadata": {},
     "output_type": "execute_result"
    }
   ],
   "source": [
    "params = {'x':10,'y':5,'another_param':5,'yet_another_param':10}\n",
    "weird_function(**params)"
   ]
  },
  {
   "cell_type": "markdown",
   "metadata": {},
   "source": [
    "### Parâmetros\n",
    "Podemos inserir os valores dos parâmetro explicitamente ou implicitamente (seguindo a ordem dos parâmetros na definição da função)"
   ]
  },
  {
   "cell_type": "code",
   "execution_count": 35,
   "metadata": {
    "ExecuteTime": {
     "end_time": "2019-03-27T20:01:20.955411Z",
     "start_time": "2019-03-27T20:01:20.943406Z"
    }
   },
   "outputs": [
    {
     "data": {
      "text/plain": [
       "3.0"
      ]
     },
     "execution_count": 35,
     "metadata": {},
     "output_type": "execute_result"
    }
   ],
   "source": [
    "def my_division (nominator,denominator):\n",
    "    return nominator / denominator\n",
    "\n",
    "my_division(12,4)"
   ]
  },
  {
   "cell_type": "code",
   "execution_count": 36,
   "metadata": {
    "ExecuteTime": {
     "end_time": "2019-03-27T20:01:20.970407Z",
     "start_time": "2019-03-27T20:01:20.959409Z"
    }
   },
   "outputs": [
    {
     "data": {
      "text/plain": [
       "0.5"
      ]
     },
     "execution_count": 36,
     "metadata": {},
     "output_type": "execute_result"
    }
   ],
   "source": [
    "my_division(denominator=10, nominator=5)"
   ]
  },
  {
   "cell_type": "code",
   "execution_count": 37,
   "metadata": {
    "ExecuteTime": {
     "end_time": "2019-03-27T20:01:20.987908Z",
     "start_time": "2019-03-27T20:01:20.971908Z"
    }
   },
   "outputs": [],
   "source": [
    "def division_default (nominator, denominator = 2):\n",
    "    return nominator / denominator"
   ]
  },
  {
   "cell_type": "code",
   "execution_count": 38,
   "metadata": {
    "ExecuteTime": {
     "end_time": "2019-03-27T20:01:21.004408Z",
     "start_time": "2019-03-27T20:01:20.989408Z"
    }
   },
   "outputs": [
    {
     "data": {
      "text/plain": [
       "5.0"
      ]
     },
     "execution_count": 38,
     "metadata": {},
     "output_type": "execute_result"
    }
   ],
   "source": [
    "division_default (10)"
   ]
  },
  {
   "cell_type": "code",
   "execution_count": 39,
   "metadata": {
    "ExecuteTime": {
     "end_time": "2019-03-27T20:01:21.019910Z",
     "start_time": "2019-03-27T20:01:21.006406Z"
    }
   },
   "outputs": [
    {
     "data": {
      "text/plain": [
       "2.0"
      ]
     },
     "execution_count": 39,
     "metadata": {},
     "output_type": "execute_result"
    }
   ],
   "source": [
    "division_default(10,5)"
   ]
  },
  {
   "cell_type": "markdown",
   "metadata": {},
   "source": [
    "## Scope\n",
    "Existem diferenças entre as variáveis definidas dentro do corpo da função e fora. Lembrando que estruturas mutávies, como listas podem sofrer modificações fora de funções por mudanças feitas dentro das funções."
   ]
  },
  {
   "cell_type": "code",
   "execution_count": 40,
   "metadata": {
    "ExecuteTime": {
     "end_time": "2019-03-27T20:01:21.036908Z",
     "start_time": "2019-03-27T20:01:21.022407Z"
    }
   },
   "outputs": [
    {
     "data": {
      "text/plain": [
       "6"
      ]
     },
     "execution_count": 40,
     "metadata": {},
     "output_type": "execute_result"
    }
   ],
   "source": [
    "x = 2\n",
    "y = 6\n",
    "def increment_value (x):\n",
    "    y = x + 1\n",
    "    return y\n",
    "y"
   ]
  },
  {
   "cell_type": "code",
   "execution_count": 41,
   "metadata": {
    "ExecuteTime": {
     "end_time": "2019-03-27T20:01:21.050410Z",
     "start_time": "2019-03-27T20:01:21.038906Z"
    }
   },
   "outputs": [
    {
     "name": "stdout",
     "output_type": "stream",
     "text": [
      "x: 2\n",
      "y: 3\n"
     ]
    }
   ],
   "source": [
    "x = 2\n",
    "def increment_value (x):\n",
    "    x = x + 1\n",
    "    return x\n",
    "y = increment_value(x)\n",
    "print (\"x:\", x)\n",
    "print (\"y:\", y)"
   ]
  },
  {
   "cell_type": "code",
   "execution_count": 42,
   "metadata": {
    "ExecuteTime": {
     "end_time": "2019-03-27T20:01:21.065408Z",
     "start_time": "2019-03-27T20:01:21.051907Z"
    }
   },
   "outputs": [
    {
     "name": "stdout",
     "output_type": "stream",
     "text": [
      "[2, 3, 4, 5]\n",
      "[2, 3, 4, 5]\n"
     ]
    }
   ],
   "source": [
    "x = [1,2,3,4]\n",
    "def increment_value (x):\n",
    "    for i in range(len(x)):\n",
    "        x[i] = x[i] + 1\n",
    "    return x\n",
    "y = increment_value(x)\n",
    "print(y)\n",
    "print(x)"
   ]
  },
  {
   "cell_type": "markdown",
   "metadata": {},
   "source": [
    "## lambda-Functions\n",
    "lambda functions são maneiras concisas de escrever funções."
   ]
  },
  {
   "cell_type": "code",
   "execution_count": 43,
   "metadata": {
    "ExecuteTime": {
     "end_time": "2019-03-27T20:01:21.082454Z",
     "start_time": "2019-03-27T20:01:21.067407Z"
    }
   },
   "outputs": [],
   "source": [
    "f = lambda x: x*5 + 1"
   ]
  },
  {
   "cell_type": "code",
   "execution_count": 44,
   "metadata": {
    "ExecuteTime": {
     "end_time": "2019-03-27T20:01:21.101455Z",
     "start_time": "2019-03-27T20:01:21.083953Z"
    }
   },
   "outputs": [
    {
     "data": {
      "text/plain": [
       "11"
      ]
     },
     "execution_count": 44,
     "metadata": {},
     "output_type": "execute_result"
    }
   ],
   "source": [
    "f(2)"
   ]
  },
  {
   "cell_type": "markdown",
   "metadata": {},
   "source": [
    "# List Comprehension"
   ]
  },
  {
   "cell_type": "markdown",
   "metadata": {},
   "source": [
    "List comprehensions permite a construção de listas de maneira concisa.\n",
    "\n",
    "São expressões dentro de uma lista que substituem a necessidade de escrever o código em várias linhas."
   ]
  },
  {
   "cell_type": "code",
   "execution_count": 45,
   "metadata": {
    "ExecuteTime": {
     "end_time": "2019-03-27T20:01:21.114953Z",
     "start_time": "2019-03-27T20:01:21.103455Z"
    }
   },
   "outputs": [
    {
     "data": {
      "text/plain": [
       "[4, 12, 10, 8, 132, 18, 200, 110, 8, 12, 8, 4]"
      ]
     },
     "execution_count": 45,
     "metadata": {},
     "output_type": "execute_result"
    }
   ],
   "source": [
    "# Exemplo comprehension A\n",
    "my_list = [2,6,5,4,66,9,100,55,4,6,4,2]\n",
    "\n",
    "new_list = [2 * x for x in my_list]\n",
    "new_list"
   ]
  },
  {
   "cell_type": "code",
   "execution_count": 46,
   "metadata": {
    "ExecuteTime": {
     "end_time": "2019-03-27T20:01:21.132956Z",
     "start_time": "2019-03-27T20:01:21.116953Z"
    }
   },
   "outputs": [
    {
     "data": {
      "text/plain": [
       "[4, 12, 10, 8, 132, 18, 200, 110, 8, 12, 8, 4]"
      ]
     },
     "execution_count": 46,
     "metadata": {},
     "output_type": "execute_result"
    }
   ],
   "source": [
    "# Exemplo loop A\n",
    "new_list = []\n",
    "for x in my_list:\n",
    "    new_list.append(2*x)\n",
    "new_list"
   ]
  },
  {
   "cell_type": "code",
   "execution_count": 47,
   "metadata": {
    "ExecuteTime": {
     "end_time": "2019-03-27T20:01:21.151453Z",
     "start_time": "2019-03-27T20:01:21.134452Z"
    }
   },
   "outputs": [
    {
     "data": {
      "text/plain": [
       "[4, 12, 10, 8, 18, 8, 12, 8, 4]"
      ]
     },
     "execution_count": 47,
     "metadata": {},
     "output_type": "execute_result"
    }
   ],
   "source": [
    "# Exemplo comprehension B\n",
    "new_list = [2*x for x in my_list if x <20]\n",
    "new_list"
   ]
  },
  {
   "cell_type": "code",
   "execution_count": 48,
   "metadata": {
    "ExecuteTime": {
     "end_time": "2019-03-27T20:01:21.168954Z",
     "start_time": "2019-03-27T20:01:21.154456Z"
    }
   },
   "outputs": [
    {
     "data": {
      "text/plain": [
       "[4, 12, 10, 8, 18, 8, 12, 8, 4]"
      ]
     },
     "execution_count": 48,
     "metadata": {},
     "output_type": "execute_result"
    }
   ],
   "source": [
    "# Exemplo loop B\n",
    "new_list = []\n",
    "for x in my_list:\n",
    "    if x < 20:\n",
    "        new_list.append(2*x)\n",
    "new_list"
   ]
  },
  {
   "cell_type": "code",
   "execution_count": 49,
   "metadata": {
    "ExecuteTime": {
     "end_time": "2019-03-27T20:01:21.191954Z",
     "start_time": "2019-03-27T20:01:21.171454Z"
    }
   },
   "outputs": [
    {
     "data": {
      "text/plain": [
       "[0, 1, 4, 9, 16, 25, 36, 49, 64, 81]"
      ]
     },
     "execution_count": 49,
     "metadata": {},
     "output_type": "execute_result"
    }
   ],
   "source": [
    "# Exemplo comprehension C.1\n",
    "squares = list(map(lambda x: x**2, range(10)))\n",
    "squares"
   ]
  },
  {
   "cell_type": "code",
   "execution_count": 50,
   "metadata": {
    "ExecuteTime": {
     "end_time": "2019-03-27T20:01:21.204456Z",
     "start_time": "2019-03-27T20:01:21.193453Z"
    }
   },
   "outputs": [
    {
     "data": {
      "text/plain": [
       "[0, 1, 4, 9, 16, 25, 36, 49, 64, 81]"
      ]
     },
     "execution_count": 50,
     "metadata": {},
     "output_type": "execute_result"
    }
   ],
   "source": [
    "# Exemplo comprehension C.2\n",
    "squares = list(i**2 for i in range(10))\n",
    "squares"
   ]
  },
  {
   "cell_type": "markdown",
   "metadata": {},
   "source": [
    "##### Colaboradores\n",
    "Kazu"
   ]
  }
 ],
 "metadata": {
  "kernelspec": {
   "display_name": "Python 3",
   "language": "python",
   "name": "python3"
  },
  "language_info": {
   "codemirror_mode": {
    "name": "ipython",
    "version": 3
   },
   "file_extension": ".py",
   "mimetype": "text/x-python",
   "name": "python",
   "nbconvert_exporter": "python",
   "pygments_lexer": "ipython3",
   "version": "3.7.1"
  },
  "toc": {
   "colors": {
    "hover_highlight": "#DAA520",
    "navigate_num": "#000000",
    "navigate_text": "#333333",
    "running_highlight": "#FF0000",
    "selected_highlight": "#FFD700",
    "sidebar_border": "#EEEEEE",
    "wrapper_background": "#FFFFFF"
   },
   "moveMenuLeft": true,
   "nav_menu": {
    "height": "336px",
    "width": "252px"
   },
   "navigate_menu": true,
   "number_sections": true,
   "sideBar": true,
   "threshold": 4,
   "toc_cell": false,
   "toc_section_display": "block",
   "toc_window_display": false,
   "widenNotebook": false
  },
  "varInspector": {
   "cols": {
    "lenName": 16,
    "lenType": 16,
    "lenVar": 40
   },
   "kernels_config": {
    "python": {
     "delete_cmd_postfix": "",
     "delete_cmd_prefix": "del ",
     "library": "var_list.py",
     "varRefreshCmd": "print(var_dic_list())"
    },
    "r": {
     "delete_cmd_postfix": ") ",
     "delete_cmd_prefix": "rm(",
     "library": "var_list.r",
     "varRefreshCmd": "cat(var_dic_list()) "
    }
   },
   "types_to_exclude": [
    "module",
    "function",
    "builtin_function_or_method",
    "instance",
    "_Feature"
   ],
   "window_display": false
  }
 },
 "nbformat": 4,
 "nbformat_minor": 1
}
