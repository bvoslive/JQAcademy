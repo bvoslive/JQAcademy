{
 "cells": [
  {
   "cell_type": "markdown",
   "metadata": {},
   "source": [
    "# Tutorial Python 3.x - Parte 01\n",
    "\n",
    "Olá!\n",
    "\n",
    "Vamos mostrar aqui como funciona a linguagem de programação Python 3.x. Python é uma linguagem bem amigável e fácil de aprender, e se você já teve experiência com programação anteriormente, será mais fácil ainda. Mas não se assuste se estiver muito difícil, vá com calma, faça os exercícios e caso tenha alguma pergunta, sugestão ou apenas quiser nos conhecer, junte-se ao [nosso slack J!QAcademy](https://bit.ly/Jqaslack).\n",
    "\n",
    "Nosso objetivo aqui é que você seja capaz de seguir para o próximo tutorial sem grande dificuldade, então não vamos nos aprofundar em grandes detalhes para cada caso específico, mas aconselho que não tenha medo de experimentar, descobrir o que a linguagem te permite fazer e o que simplesmente dá erro. Sempre que possível tentarei incluir links para documentações para consulta ou descobrir novos métodos, funções e peculiaridades. \n",
    "\n",
    "Acredito que o aprendizado seja gradual e desenvolvido pela prática, não é recomendado ler toda a documentação de cada biblioteca e pacote, pois além demandar muito, tempo pode ser pouco proveitoso, e dificilmente você lembrará de tudo que leu."
   ]
  },
  {
   "cell_type": "markdown",
   "metadata": {},
   "source": [
    "## Conteúdo\n",
    "\n",
    "Aqui neste tutorial falaremos sobre o Python básico, alguns detalhes sobre seu funcionamento e dicas de como utilizá-lo.\n",
    "\n",
    "Veremos como os tipos de variáveis do python e como realizar operações matemáticas básicas, utilização de funções básicas e descreveremos as principais estruturas de dados que serão muito importantes para os próximos tutoriais!\n",
    "\n",
    "Lembrando que neste tutorial não será explicado tudo aos mínimos detalhes, porém sempre que for pertinente explicaremos características específicas que podem ajudar a entender os tutoriais seguintes."
   ]
  },
  {
   "cell_type": "markdown",
   "metadata": {},
   "source": [
    "# [Variáveis e operações](https://docs.python.org/3/library/stdtypes.html#iterator-types)\n",
    "\n",
    "As variáveis no Python não precisam ser declaradas. Podemos simplesmente criar uma variável apenas atribuindo um valor a ela e a própria linguagem é capaz de interpretar seu tipo. De maneira simplística, existem 3 tipos de variáveis:\n",
    "\n",
    "- Variáveis numéricas (divididas em **int** e **float**)\n",
    "- Variáveis texto (chamadas de **strings**)\n",
    "- Variáveis lógicas (chamadas de **booleanas**)\n",
    "\n",
    "Vamos começar, abaixo temos algumas células exemplificando códigos básicos.\n",
    "\n",
    "A célula contendo **2+1** retorna no seu *Out* o valor **3**. \n",
    "\n",
    "A célula contendo **a=10** atribui o valor **10** para a variável __a__, e não retorna nada, pois estamos atribuindo valor ao contrário da célula anterior que estamos \"solicitando\" o resultado. Já na próxima célula, estamos verificando o valor da variável **a**.\n",
    "\n",
    "Para criarmos strings (texto), basta inserir o valor desejado entre aspas (\"texto\" ou 'texto').\n",
    "\n",
    "As [variáveis booleanas](https://en.wikipedia.org/wiki/Boolean_algebra#Values) são resultado de operações lógicas."
   ]
  },
  {
   "cell_type": "code",
   "execution_count": 1,
   "metadata": {
    "ExecuteTime": {
     "end_time": "2019-03-27T14:21:45.899232Z",
     "start_time": "2019-03-27T14:21:45.888231Z"
    }
   },
   "outputs": [
    {
     "data": {
      "text/plain": [
       "3"
      ]
     },
     "execution_count": 1,
     "metadata": {},
     "output_type": "execute_result"
    }
   ],
   "source": [
    "2+1"
   ]
  },
  {
   "cell_type": "code",
   "execution_count": 2,
   "metadata": {
    "ExecuteTime": {
     "end_time": "2019-03-27T14:21:45.912228Z",
     "start_time": "2019-03-27T14:21:45.902230Z"
    }
   },
   "outputs": [],
   "source": [
    "a=10"
   ]
  },
  {
   "cell_type": "code",
   "execution_count": 3,
   "metadata": {
    "ExecuteTime": {
     "end_time": "2019-03-27T14:21:45.936230Z",
     "start_time": "2019-03-27T14:21:45.914228Z"
    }
   },
   "outputs": [
    {
     "data": {
      "text/plain": [
       "10"
      ]
     },
     "execution_count": 3,
     "metadata": {},
     "output_type": "execute_result"
    }
   ],
   "source": [
    "a"
   ]
  },
  {
   "cell_type": "code",
   "execution_count": 4,
   "metadata": {
    "ExecuteTime": {
     "end_time": "2019-03-27T14:21:45.953742Z",
     "start_time": "2019-03-27T14:21:45.939230Z"
    }
   },
   "outputs": [
    {
     "data": {
      "text/plain": [
       "'isso é uma string'"
      ]
     },
     "execution_count": 4,
     "metadata": {},
     "output_type": "execute_result"
    }
   ],
   "source": [
    "'isso é uma string'"
   ]
  },
  {
   "cell_type": "code",
   "execution_count": 5,
   "metadata": {
    "ExecuteTime": {
     "end_time": "2019-03-27T14:21:45.967249Z",
     "start_time": "2019-03-27T14:21:45.957247Z"
    }
   },
   "outputs": [],
   "source": [
    "b = \"string\"\n",
    "c = a\n",
    "d = 'a'\n",
    "e = 23\n",
    "f = '23'"
   ]
  },
  {
   "cell_type": "code",
   "execution_count": 6,
   "metadata": {
    "ExecuteTime": {
     "end_time": "2019-03-27T14:21:45.980252Z",
     "start_time": "2019-03-27T14:21:45.969251Z"
    }
   },
   "outputs": [],
   "source": [
    "# variáveis atribuídas com valores booleanos\n",
    "x = True\n",
    "y = False"
   ]
  },
  {
   "cell_type": "markdown",
   "metadata": {},
   "source": [
    "Segue aqui a tabela com as operações aritméticas mais simples:\n",
    "\n",
    "| Símbolo | Significado|\n",
    "|----|---|\n",
    "| +  | Adição |\n",
    "| -  | Subtração |\n",
    "| /  | Divisão |\n",
    "| // | Divisão Inteira |\n",
    "| *  | Multiplicação |\n",
    "| **  | Potenciação |\n",
    "| % | Módulo |\n",
    "\n",
    "Segue aqui a tabela com as operações lógicas mais simples:\n",
    "\n",
    "| Símbolo | Significado |\n",
    "|----|---|\n",
    "| == | é igual à |\n",
    "| !=  | é diferente de |\n",
    "| < | é menor que |\n",
    "| > | é maior que |\n",
    "| <=  | é menor ou igual à |\n",
    "| >=  | é maior ou igual à |\n",
    "| and | operador \"e\" |\n",
    "| or | operador \"ou\" |\n",
    "| not | operador \"não\" |\n",
    "\n",
    "Abaixo, seguem alguns exemplos de uso das operações:"
   ]
  },
  {
   "cell_type": "code",
   "execution_count": 7,
   "metadata": {
    "ExecuteTime": {
     "end_time": "2019-03-27T14:21:45.993250Z",
     "start_time": "2019-03-27T14:21:45.982251Z"
    },
    "scrolled": true
   },
   "outputs": [
    {
     "data": {
      "text/plain": [
       "3.75"
      ]
     },
     "execution_count": 7,
     "metadata": {},
     "output_type": "execute_result"
    }
   ],
   "source": [
    "15/4"
   ]
  },
  {
   "cell_type": "code",
   "execution_count": 8,
   "metadata": {
    "ExecuteTime": {
     "end_time": "2019-03-27T14:21:46.008250Z",
     "start_time": "2019-03-27T14:21:45.994247Z"
    }
   },
   "outputs": [
    {
     "data": {
      "text/plain": [
       "3"
      ]
     },
     "execution_count": 8,
     "metadata": {},
     "output_type": "execute_result"
    }
   ],
   "source": [
    "15//4"
   ]
  },
  {
   "cell_type": "code",
   "execution_count": 9,
   "metadata": {
    "ExecuteTime": {
     "end_time": "2019-03-27T14:21:46.021252Z",
     "start_time": "2019-03-27T14:21:46.009249Z"
    }
   },
   "outputs": [
    {
     "data": {
      "text/plain": [
       "100"
      ]
     },
     "execution_count": 9,
     "metadata": {},
     "output_type": "execute_result"
    }
   ],
   "source": [
    "a**2"
   ]
  },
  {
   "cell_type": "code",
   "execution_count": 10,
   "metadata": {
    "ExecuteTime": {
     "end_time": "2019-03-27T14:21:46.042763Z",
     "start_time": "2019-03-27T14:21:46.022251Z"
    }
   },
   "outputs": [
    {
     "data": {
      "text/plain": [
       "13"
      ]
     },
     "execution_count": 10,
     "metadata": {},
     "output_type": "execute_result"
    }
   ],
   "source": [
    "(2**3) + 5*e % 11"
   ]
  },
  {
   "cell_type": "markdown",
   "metadata": {},
   "source": [
    "Abaixo alguns exemplos de operações booleanas. \n",
    "\n",
    "Operações booleanas avaliam uma sentença e retornam o valor lógico de **True** ou **False**. (note que **True** e **False** são palavras-chave intrínsecas do python)"
   ]
  },
  {
   "cell_type": "code",
   "execution_count": 11,
   "metadata": {
    "ExecuteTime": {
     "end_time": "2019-03-27T14:21:46.055260Z",
     "start_time": "2019-03-27T14:21:46.044261Z"
    }
   },
   "outputs": [
    {
     "data": {
      "text/plain": [
       "False"
      ]
     },
     "execution_count": 11,
     "metadata": {},
     "output_type": "execute_result"
    }
   ],
   "source": [
    "5==3"
   ]
  },
  {
   "cell_type": "code",
   "execution_count": 12,
   "metadata": {
    "ExecuteTime": {
     "end_time": "2019-03-27T14:21:46.072760Z",
     "start_time": "2019-03-27T14:21:46.056762Z"
    }
   },
   "outputs": [
    {
     "data": {
      "text/plain": [
       "True"
      ]
     },
     "execution_count": 12,
     "metadata": {},
     "output_type": "execute_result"
    }
   ],
   "source": [
    "a > 5"
   ]
  },
  {
   "cell_type": "code",
   "execution_count": 13,
   "metadata": {
    "ExecuteTime": {
     "end_time": "2019-03-27T14:21:46.089261Z",
     "start_time": "2019-03-27T14:21:46.074763Z"
    }
   },
   "outputs": [
    {
     "data": {
      "text/plain": [
       "True"
      ]
     },
     "execution_count": 13,
     "metadata": {},
     "output_type": "execute_result"
    }
   ],
   "source": [
    "c != d"
   ]
  },
  {
   "cell_type": "markdown",
   "metadata": {
    "ExecuteTime": {
     "end_time": "2019-03-22T19:57:32.501997Z",
     "start_time": "2019-03-22T19:57:32.498996Z"
    }
   },
   "source": [
    "# [Funções básicas](https://docs.python.org/3/library/functions.html)\n",
    "\n",
    "O Jupyter notebook automaticamente escreve no Out o resultado de uma operação, como no exemplo abaixo. Em outras IDEs para python, é comum que você use a função **print()**. Com essa função, você pode escrever mais de um resultado para a mesma célula também."
   ]
  },
  {
   "cell_type": "code",
   "execution_count": 14,
   "metadata": {
    "ExecuteTime": {
     "end_time": "2019-03-27T14:21:46.102260Z",
     "start_time": "2019-03-27T14:21:46.091262Z"
    }
   },
   "outputs": [
    {
     "data": {
      "text/plain": [
       "8"
      ]
     },
     "execution_count": 14,
     "metadata": {},
     "output_type": "execute_result"
    }
   ],
   "source": [
    "2+2\n",
    "4+4"
   ]
  },
  {
   "cell_type": "code",
   "execution_count": 15,
   "metadata": {
    "ExecuteTime": {
     "end_time": "2019-03-27T14:21:46.118762Z",
     "start_time": "2019-03-27T14:21:46.103760Z"
    }
   },
   "outputs": [
    {
     "name": "stdout",
     "output_type": "stream",
     "text": [
      "4\n",
      "9\n",
      "False\n"
     ]
    }
   ],
   "source": [
    "print (2+2)\n",
    "print (4+5)\n",
    "print (x == 10)"
   ]
  },
  {
   "cell_type": "markdown",
   "metadata": {},
   "source": [
    "Abaixo, outros exemplos de funções:\n",
    "\n",
    "| função | resultado |\n",
    "|----|---|\n",
    "|abs()| valor absoluto|\n",
    "|max()| valor máximo|\n",
    "|type()| retorna o tipo da variável|"
   ]
  },
  {
   "cell_type": "code",
   "execution_count": 16,
   "metadata": {
    "ExecuteTime": {
     "end_time": "2019-03-27T14:21:46.132761Z",
     "start_time": "2019-03-27T14:21:46.120262Z"
    }
   },
   "outputs": [
    {
     "data": {
      "text/plain": [
       "5"
      ]
     },
     "execution_count": 16,
     "metadata": {},
     "output_type": "execute_result"
    }
   ],
   "source": [
    "abs (-5)"
   ]
  },
  {
   "cell_type": "code",
   "execution_count": 17,
   "metadata": {
    "ExecuteTime": {
     "end_time": "2019-03-27T14:21:46.144259Z",
     "start_time": "2019-03-27T14:21:46.135262Z"
    },
    "scrolled": true
   },
   "outputs": [
    {
     "data": {
      "text/plain": [
       "5"
      ]
     },
     "execution_count": 17,
     "metadata": {},
     "output_type": "execute_result"
    }
   ],
   "source": [
    "max (3,5)"
   ]
  },
  {
   "cell_type": "code",
   "execution_count": 18,
   "metadata": {
    "ExecuteTime": {
     "end_time": "2019-03-27T14:21:46.156759Z",
     "start_time": "2019-03-27T14:21:46.151762Z"
    }
   },
   "outputs": [
    {
     "name": "stdout",
     "output_type": "stream",
     "text": [
      "5\n"
     ]
    }
   ],
   "source": [
    "print (max(x, 5))"
   ]
  },
  {
   "cell_type": "code",
   "execution_count": 19,
   "metadata": {
    "ExecuteTime": {
     "end_time": "2019-03-27T14:21:46.174267Z",
     "start_time": "2019-03-27T14:21:46.165258Z"
    }
   },
   "outputs": [
    {
     "name": "stdout",
     "output_type": "stream",
     "text": [
      "<class 'int'>\n",
      "<class 'float'>\n",
      "<class 'str'>\n",
      "<class 'str'>\n"
     ]
    }
   ],
   "source": [
    "print (type(5))\n",
    "print (type(5.0))\n",
    "print (type(\"Hello World\"))\n",
    "print (type('Hello World')) "
   ]
  },
  {
   "cell_type": "markdown",
   "metadata": {},
   "source": [
    "O python também compreende operações com texto, colocando os caracteres em ordem alfabética para realizar operações que necessitam de ordenação entre strings."
   ]
  },
  {
   "cell_type": "code",
   "execution_count": 20,
   "metadata": {
    "ExecuteTime": {
     "end_time": "2019-03-27T14:21:46.187267Z",
     "start_time": "2019-03-27T14:21:46.175267Z"
    }
   },
   "outputs": [
    {
     "name": "stdout",
     "output_type": "stream",
     "text": [
      "zyx\n"
     ]
    }
   ],
   "source": [
    "print (max(\"abc\", \"zyx\"))"
   ]
  },
  {
   "cell_type": "code",
   "execution_count": 21,
   "metadata": {
    "ExecuteTime": {
     "end_time": "2019-03-27T14:21:46.201267Z",
     "start_time": "2019-03-27T14:21:46.189266Z"
    }
   },
   "outputs": [
    {
     "name": "stdout",
     "output_type": "stream",
     "text": [
      "Hello World!\n",
      "True\n"
     ]
    }
   ],
   "source": [
    "print (\"Hello \" + \"World\" + \"!\")\n",
    "print ('A' < 'B')"
   ]
  },
  {
   "cell_type": "code",
   "execution_count": 22,
   "metadata": {
    "ExecuteTime": {
     "end_time": "2019-03-27T14:21:46.216266Z",
     "start_time": "2019-03-27T14:21:46.202265Z"
    }
   },
   "outputs": [
    {
     "data": {
      "text/plain": [
       "38"
      ]
     },
     "execution_count": 22,
     "metadata": {},
     "output_type": "execute_result"
    }
   ],
   "source": [
    "len (\"Quantos caracteres possui essa string?\")"
   ]
  },
  {
   "cell_type": "markdown",
   "metadata": {},
   "source": [
    "## Conversão entre tipo\n",
    "Podemos realizar conversões entre tipos de variável, caso seja possível*, utilizando funções como __str()__, __float()__, __int()__.\n",
    "\n",
    "*por exemplo, conversão de string para float apenas se houverem valores numéricos na string."
   ]
  },
  {
   "cell_type": "code",
   "execution_count": 23,
   "metadata": {
    "ExecuteTime": {
     "end_time": "2019-03-27T14:21:46.229265Z",
     "start_time": "2019-03-27T14:21:46.217265Z"
    }
   },
   "outputs": [
    {
     "name": "stdout",
     "output_type": "stream",
     "text": [
      "<class 'int'>\n",
      "<class 'str'>\n",
      "2\n"
     ]
    }
   ],
   "source": [
    "x_as_int = 10\n",
    "print (type(x_as_int))\n",
    "x_as_string = str(x_as_int)\n",
    "print (type(x_as_string))\n",
    "\n",
    "print (len (x_as_string))"
   ]
  },
  {
   "cell_type": "code",
   "execution_count": 24,
   "metadata": {
    "ExecuteTime": {
     "end_time": "2019-03-27T14:21:46.244269Z",
     "start_time": "2019-03-27T14:21:46.231262Z"
    }
   },
   "outputs": [
    {
     "name": "stdout",
     "output_type": "stream",
     "text": [
      "Minha variável x é 10\n"
     ]
    }
   ],
   "source": [
    "print (\"Minha variável x é \" + str(x_as_int))"
   ]
  },
  {
   "cell_type": "code",
   "execution_count": 25,
   "metadata": {
    "ExecuteTime": {
     "end_time": "2019-03-27T14:21:46.261270Z",
     "start_time": "2019-03-27T14:21:46.246266Z"
    }
   },
   "outputs": [
    {
     "data": {
      "text/plain": [
       "0.2019"
      ]
     },
     "execution_count": 25,
     "metadata": {},
     "output_type": "execute_result"
    }
   ],
   "source": [
    "float('0.2019')"
   ]
  },
  {
   "cell_type": "markdown",
   "metadata": {},
   "source": [
    "## [Funções para String](https://docs.python.org/3/library/string.html)"
   ]
  },
  {
   "cell_type": "code",
   "execution_count": 26,
   "metadata": {
    "ExecuteTime": {
     "end_time": "2019-03-27T14:21:46.284286Z",
     "start_time": "2019-03-27T14:21:46.262770Z"
    }
   },
   "outputs": [
    {
     "data": {
      "text/plain": [
       "34"
      ]
     },
     "execution_count": 26,
     "metadata": {},
     "output_type": "execute_result"
    }
   ],
   "source": [
    "s = \"Python is my new favorite language\"\n",
    "len (s)"
   ]
  },
  {
   "cell_type": "markdown",
   "metadata": {},
   "source": [
    "É comum que funções e métodos não mudem os valores da variável em que o método é chamado e sim retornam o valor com as alterações da função.\n",
    "\n",
    "Esse é o caso do **.lower()**, **.upper()**, **.replace()**, eles não alteram o valor da variável __s__ em que é chamado e sim retorna o valor com as alterações de respectivas. É necessário atribuir o valor retornado em outra variável ou na mesma variável **s** para salvar as alterações."
   ]
  },
  {
   "cell_type": "code",
   "execution_count": 27,
   "metadata": {
    "ExecuteTime": {
     "end_time": "2019-03-27T14:21:46.295283Z",
     "start_time": "2019-03-27T14:21:46.286284Z"
    }
   },
   "outputs": [],
   "source": [
    "s=s.lower() # Transformar todas os caracteres para letra minúscula"
   ]
  },
  {
   "cell_type": "code",
   "execution_count": 28,
   "metadata": {
    "ExecuteTime": {
     "end_time": "2019-03-27T14:21:46.313281Z",
     "start_time": "2019-03-27T14:21:46.296282Z"
    }
   },
   "outputs": [
    {
     "data": {
      "text/plain": [
       "'PYTHON IS MY NEW FAVORITE LANGUAGE'"
      ]
     },
     "execution_count": 28,
     "metadata": {},
     "output_type": "execute_result"
    }
   ],
   "source": [
    "s.upper() # Transformar todas os caracteres para letra maiúscula"
   ]
  },
  {
   "cell_type": "code",
   "execution_count": 29,
   "metadata": {
    "ExecuteTime": {
     "end_time": "2019-03-27T14:21:46.327282Z",
     "start_time": "2019-03-27T14:21:46.314281Z"
    },
    "scrolled": true
   },
   "outputs": [
    {
     "data": {
      "text/plain": [
       "False"
      ]
     },
     "execution_count": 29,
     "metadata": {},
     "output_type": "execute_result"
    }
   ],
   "source": [
    "s.startswith('P')"
   ]
  },
  {
   "cell_type": "code",
   "execution_count": 30,
   "metadata": {
    "ExecuteTime": {
     "end_time": "2019-03-27T14:21:46.345282Z",
     "start_time": "2019-03-27T14:21:46.328281Z"
    },
    "scrolled": true
   },
   "outputs": [
    {
     "data": {
      "text/plain": [
       "True"
      ]
     },
     "execution_count": 30,
     "metadata": {},
     "output_type": "execute_result"
    }
   ],
   "source": [
    "s.startswith('p') "
   ]
  },
  {
   "cell_type": "code",
   "execution_count": 31,
   "metadata": {
    "ExecuteTime": {
     "end_time": "2019-03-27T14:21:46.358792Z",
     "start_time": "2019-03-27T14:21:46.347284Z"
    },
    "scrolled": true
   },
   "outputs": [
    {
     "data": {
      "text/plain": [
       "'python is your new favorite language'"
      ]
     },
     "execution_count": 31,
     "metadata": {},
     "output_type": "execute_result"
    }
   ],
   "source": [
    "s.replace (\"my\", \"your\")"
   ]
  },
  {
   "cell_type": "code",
   "execution_count": 32,
   "metadata": {
    "ExecuteTime": {
     "end_time": "2019-03-27T14:21:46.372296Z",
     "start_time": "2019-03-27T14:21:46.361291Z"
    }
   },
   "outputs": [
    {
     "data": {
      "text/plain": [
       "'pyth0n is my new fav0rite language'"
      ]
     },
     "execution_count": 32,
     "metadata": {},
     "output_type": "execute_result"
    }
   ],
   "source": [
    "s.replace (\"a\", \"4\")\n",
    "s.replace (\"o\", \"0\") "
   ]
  },
  {
   "cell_type": "code",
   "execution_count": 33,
   "metadata": {
    "ExecuteTime": {
     "end_time": "2019-03-27T14:21:46.384301Z",
     "start_time": "2019-03-27T14:21:46.374302Z"
    }
   },
   "outputs": [
    {
     "data": {
      "text/plain": [
       "['python', 'is', 'my', 'new', 'favorite', 'language']"
      ]
     },
     "execution_count": 33,
     "metadata": {},
     "output_type": "execute_result"
    }
   ],
   "source": [
    "s.split (\" \")"
   ]
  },
  {
   "cell_type": "code",
   "execution_count": 34,
   "metadata": {
    "ExecuteTime": {
     "end_time": "2019-03-27T14:21:46.398304Z",
     "start_time": "2019-03-27T14:21:46.385298Z"
    }
   },
   "outputs": [
    {
     "data": {
      "text/plain": [
       "'python is my new favorite language'"
      ]
     },
     "execution_count": 34,
     "metadata": {},
     "output_type": "execute_result"
    }
   ],
   "source": [
    "s"
   ]
  },
  {
   "cell_type": "markdown",
   "metadata": {},
   "source": [
    "# Coleções\n",
    "## Lists\n",
    "Listas são a estrutura de dados mais comum. São objetos __ordenados__ e **mutáveis**. \n",
    "\n",
    "Listas são declaradas apenas atribuindo a uma variável: **'[ ]' e seus elementos são separados por vírgula** ou **list(_iterator_)**. \n",
    "\n",
    "A indexação é feita por:\n",
    "- números inteiros a partir do **0** até __tamanho da lista-1__. \n",
    "- ordem reversa indexando por valores negativos do **-tamanho da lista** até __-1__, onde -1 é representa o último elemento\n",
    "- slicing, utilizando o símbolo $:$ para  indicar o segmento desejado. Para acessar os elementos entre $i\\leq x <j$, utilizamos o index $[i:j]$. Se for o i for omitido, será interpretado como a partir do início da lista, e se o j for omitido, será interpretado como até o final da lista.\n",
    "\n",
    "## Tuple\n",
    "Tuplas são parecidas com listas, são __ordenados__ e **imutáveis**, porém não podem ser modificadas uma vez que são criadas. Boas para criar gabaritos e armazenar resultados que não podem ser modificados.\n",
    "\n",
    "## Set\n",
    "Sets são parecidos com listas, porém não contém elementos duplicados. __Não__ são **ordenados**, mas são __mutáveis__.\n",
    "\n",
    "## Dictionary\n",
    "Dicionários são um tipo de mapeamento, onde se mapeia 'keys', qualquer tipo imutável, para 'values', que podem ser de qualquer tipo. A relação key-value é como num dicionário a relação palavra-significado. __Não__ são **ordenados**, mas são __mutáveis__."
   ]
  },
  {
   "cell_type": "markdown",
   "metadata": {},
   "source": [
    "- **mutável**: Esse tipo de estrutura permite que seus valores sejam modificados, adicionados ou removidos. \n",
    "- **ordenado**: Os elementos possuem uma ordenação sequencial"
   ]
  },
  {
   "cell_type": "code",
   "execution_count": 35,
   "metadata": {
    "ExecuteTime": {
     "end_time": "2019-03-27T14:21:46.413296Z",
     "start_time": "2019-03-27T14:21:46.400310Z"
    }
   },
   "outputs": [
    {
     "data": {
      "text/plain": [
       "[1, 2, 3, 4, 5, 6, 7, 8, 9, 10]"
      ]
     },
     "execution_count": 35,
     "metadata": {},
     "output_type": "execute_result"
    }
   ],
   "source": [
    "lista = [1,2,3,4,5,6,7,8,9,10]\n",
    "lista"
   ]
  },
  {
   "cell_type": "code",
   "execution_count": 36,
   "metadata": {
    "ExecuteTime": {
     "end_time": "2019-03-27T14:21:46.433297Z",
     "start_time": "2019-03-27T14:21:46.415296Z"
    }
   },
   "outputs": [],
   "source": [
    "# Uma lista vazia\n",
    "list_1 = []\n",
    "\n",
    "# lista de inteiros\n",
    "list_2 = [3,5,7,9]\n",
    "\n",
    "# lista de strings\n",
    "list_3 = ['Segunda','Terça','Quarta','Quinta','Sexta','Sábado','Domingo']\n",
    "\n",
    "# lista com valores mistos\n",
    "list_4 = [2, 9, \"casa\", 7, 8.1, True]"
   ]
  },
  {
   "cell_type": "code",
   "execution_count": 37,
   "metadata": {
    "ExecuteTime": {
     "end_time": "2019-03-27T14:21:46.450300Z",
     "start_time": "2019-03-27T14:21:46.435300Z"
    }
   },
   "outputs": [
    {
     "data": {
      "text/plain": [
       "2"
      ]
     },
     "execution_count": 37,
     "metadata": {},
     "output_type": "execute_result"
    }
   ],
   "source": [
    "# Exemplo de indexação\n",
    "list_4[0]"
   ]
  },
  {
   "cell_type": "code",
   "execution_count": 38,
   "metadata": {
    "ExecuteTime": {
     "end_time": "2019-03-27T14:21:46.464312Z",
     "start_time": "2019-03-27T14:21:46.452813Z"
    }
   },
   "outputs": [
    {
     "data": {
      "text/plain": [
       "'casa'"
      ]
     },
     "execution_count": 38,
     "metadata": {},
     "output_type": "execute_result"
    }
   ],
   "source": [
    "# Exemplo de indexação\n",
    "list_4 [2]"
   ]
  },
  {
   "cell_type": "code",
   "execution_count": 39,
   "metadata": {
    "ExecuteTime": {
     "end_time": "2019-03-27T14:21:46.483319Z",
     "start_time": "2019-03-27T14:21:46.465813Z"
    }
   },
   "outputs": [
    {
     "data": {
      "text/plain": [
       "True"
      ]
     },
     "execution_count": 39,
     "metadata": {},
     "output_type": "execute_result"
    }
   ],
   "source": [
    "# Exemplo de indexação inversa\n",
    "list_4[-1]"
   ]
  },
  {
   "cell_type": "code",
   "execution_count": 40,
   "metadata": {
    "ExecuteTime": {
     "end_time": "2019-03-27T14:21:46.503320Z",
     "start_time": "2019-03-27T14:21:46.484321Z"
    }
   },
   "outputs": [
    {
     "data": {
      "text/plain": [
       "[1, 2, 'substituto', 4, 5, 6, 7, 8, 9, 10]"
      ]
     },
     "execution_count": 40,
     "metadata": {},
     "output_type": "execute_result"
    }
   ],
   "source": [
    "lista [2] = 'substituto' # substitui o valor da posição 2 por 'substituto'\n",
    "lista"
   ]
  },
  {
   "cell_type": "code",
   "execution_count": 41,
   "metadata": {
    "ExecuteTime": {
     "end_time": "2019-03-27T14:21:46.576331Z",
     "start_time": "2019-03-27T14:21:46.505316Z"
    },
    "scrolled": false
   },
   "outputs": [
    {
     "ename": "IndexError",
     "evalue": "list assignment index out of range",
     "output_type": "error",
     "traceback": [
      "\u001b[1;31m---------------------------------------------------------------------------\u001b[0m",
      "\u001b[1;31mIndexError\u001b[0m                                Traceback (most recent call last)",
      "\u001b[1;32m<ipython-input-41-4fc327c92706>\u001b[0m in \u001b[0;36m<module>\u001b[1;34m\u001b[0m\n\u001b[1;32m----> 1\u001b[1;33m \u001b[0mlista\u001b[0m \u001b[1;33m[\u001b[0m\u001b[1;36m10\u001b[0m\u001b[1;33m]\u001b[0m \u001b[1;33m=\u001b[0m \u001b[1;34m'too-late'\u001b[0m \u001b[1;31m# não é possível acessar posições da lista que não existem\u001b[0m\u001b[1;33m\u001b[0m\u001b[1;33m\u001b[0m\u001b[0m\n\u001b[0m",
      "\u001b[1;31mIndexError\u001b[0m: list assignment index out of range"
     ]
    }
   ],
   "source": [
    "lista [10] = 'too-late' # não é possível acessar posições da lista que não existem\n"
   ]
  },
  {
   "cell_type": "markdown",
   "metadata": {},
   "source": [
    "Note que o Python nos retorna uma mensagem de erro quando realizamos ações que não são válidas, e até nos indica a linha do comando que retornou este erro.\n",
    "\n",
    "Geralmente, as mensagens de erros do Python e de bibliotecas bem documentadas nos dão boas dicas de qual erro estamos lidando e conseguimos identificar facilmente qual é o erro e consertá-lo.\n",
    "\n",
    "Veja que o Python nos diz na mensagem de erro: **'IndexError:'**, que nos indica que houve o mau uso de indexação, e ainda nos fala __list assignment index out of range__ que o índice que foi atribuído à lista está fora de alcance. \n",
    "\n",
    "```\n",
    "IndexError: list assignment index out of range\n",
    "```\n",
    "\n",
    "Neste caso foi fácil identificar o erro, e quando entendemos o erro podemos agir e consertá-lo. Com o uso e costume do python e das bibliotecas, nós vamos nos familiarizando com as mensagens de erros."
   ]
  },
  {
   "cell_type": "code",
   "execution_count": 42,
   "metadata": {
    "ExecuteTime": {
     "end_time": "2019-03-27T14:21:57.846500Z",
     "start_time": "2019-03-27T14:21:57.840498Z"
    }
   },
   "outputs": [
    {
     "data": {
      "text/plain": [
       "['b', 'c', 'd', 'e']"
      ]
     },
     "execution_count": 42,
     "metadata": {},
     "output_type": "execute_result"
    }
   ],
   "source": [
    "# Exemplos de slicing\n",
    "list_a = ['a','b','c','d','e','f','g', 'h']\n",
    "list_a[1:5]"
   ]
  },
  {
   "cell_type": "code",
   "execution_count": 43,
   "metadata": {
    "ExecuteTime": {
     "end_time": "2019-03-27T14:21:57.866501Z",
     "start_time": "2019-03-27T14:21:57.848498Z"
    }
   },
   "outputs": [
    {
     "data": {
      "text/plain": [
       "['d', 'e', 'f', 'g', 'h']"
      ]
     },
     "execution_count": 43,
     "metadata": {},
     "output_type": "execute_result"
    }
   ],
   "source": [
    "list_a[3:]"
   ]
  },
  {
   "cell_type": "code",
   "execution_count": 44,
   "metadata": {
    "ExecuteTime": {
     "end_time": "2019-03-27T14:21:57.880007Z",
     "start_time": "2019-03-27T14:21:57.869498Z"
    }
   },
   "outputs": [
    {
     "data": {
      "text/plain": [
       "['a', 'b', 'c', 'd', 'e', 'f', 'g']"
      ]
     },
     "execution_count": 44,
     "metadata": {},
     "output_type": "execute_result"
    }
   ],
   "source": [
    "list_a[:-1] #removes just the last element"
   ]
  },
  {
   "cell_type": "markdown",
   "metadata": {},
   "source": [
    "## Funções em listas\n",
    "Abaixo vamos mostrar o uso de algumas funções em listas."
   ]
  },
  {
   "cell_type": "code",
   "execution_count": 45,
   "metadata": {
    "ExecuteTime": {
     "end_time": "2019-03-27T14:21:57.894014Z",
     "start_time": "2019-03-27T14:21:57.882507Z"
    },
    "scrolled": true
   },
   "outputs": [
    {
     "name": "stdout",
     "output_type": "stream",
     "text": [
      "11\n",
      "-3\n",
      "11\n",
      "2\n",
      "3\n"
     ]
    }
   ],
   "source": [
    "l = [1,2,-3,0,11,5,4,3,9,5,0]\n",
    "\n",
    "### Uso de algumas funções em listas\n",
    "print (len(l)) # Número de elementos\n",
    "print (min(l)) # valor mínimo entre os elementos\n",
    "print (max(l)) # valor máximo entre os elementos\n",
    "print (l.count(5)) # quantas vezes o valor 5 aparece\n",
    "print (l.index(0)) # qual o índice que o 0 aparece pela primeira vez"
   ]
  },
  {
   "cell_type": "code",
   "execution_count": 46,
   "metadata": {
    "ExecuteTime": {
     "end_time": "2019-03-27T14:21:57.909015Z",
     "start_time": "2019-03-27T14:21:57.896014Z"
    }
   },
   "outputs": [
    {
     "name": "stdout",
     "output_type": "stream",
     "text": [
      "['a', 'b', 'c', 'd', 'e', 'f']\n"
     ]
    }
   ],
   "source": [
    "l = ['a','b','c','d']\n",
    "l.append('e') # acrescenta o valor 'e' ao final da lista\n",
    "l.append('f')\n",
    "print(l)"
   ]
  },
  {
   "cell_type": "code",
   "execution_count": 47,
   "metadata": {
    "ExecuteTime": {
     "end_time": "2019-03-27T14:21:57.924014Z",
     "start_time": "2019-03-27T14:21:57.911016Z"
    }
   },
   "outputs": [
    {
     "name": "stdout",
     "output_type": "stream",
     "text": [
      "['a', 'novo_elemento', 'b', 'c', 'd', 'e', 'f']\n"
     ]
    }
   ],
   "source": [
    "l.insert (1, \"novo_elemento\") # coloca o valor 'novo_elemento' na posição 1\n",
    "print (l)"
   ]
  },
  {
   "cell_type": "code",
   "execution_count": 48,
   "metadata": {
    "ExecuteTime": {
     "end_time": "2019-03-27T14:21:57.947016Z",
     "start_time": "2019-03-27T14:21:57.926013Z"
    }
   },
   "outputs": [
    {
     "data": {
      "text/plain": [
       "['a', 'c', 'd']"
      ]
     },
     "execution_count": 48,
     "metadata": {},
     "output_type": "execute_result"
    }
   ],
   "source": [
    "l = ['a','b','c','d']\n",
    "l.remove ('b') # remove o valor da lista\n",
    "l"
   ]
  },
  {
   "cell_type": "code",
   "execution_count": 49,
   "metadata": {
    "ExecuteTime": {
     "end_time": "2019-03-27T14:21:57.959017Z",
     "start_time": "2019-03-27T14:21:57.949016Z"
    }
   },
   "outputs": [
    {
     "name": "stdout",
     "output_type": "stream",
     "text": [
      "['a', 'b', 'c']\n",
      "d\n"
     ]
    }
   ],
   "source": [
    "l = ['a','b','c','d']\n",
    "x = l.pop () # retorna o último valor e o remove da lista \n",
    "print (l)\n",
    "print (x)"
   ]
  },
  {
   "cell_type": "code",
   "execution_count": 50,
   "metadata": {
    "ExecuteTime": {
     "end_time": "2019-03-27T14:21:57.976524Z",
     "start_time": "2019-03-27T14:21:57.964017Z"
    }
   },
   "outputs": [
    {
     "data": {
      "text/plain": [
       "['a', 'b', 'd']"
      ]
     },
     "execution_count": 50,
     "metadata": {},
     "output_type": "execute_result"
    }
   ],
   "source": [
    "l = ['a','b','c','d']\n",
    "l.pop(2) # retorna o valor da posição 2 e o remove da lista \n",
    "l"
   ]
  },
  {
   "cell_type": "code",
   "execution_count": 51,
   "metadata": {
    "ExecuteTime": {
     "end_time": "2019-03-27T14:21:58.001565Z",
     "start_time": "2019-03-27T14:21:57.980521Z"
    }
   },
   "outputs": [
    {
     "data": {
      "text/plain": [
       "[7, 8, 5, 6, 3, 4, 1, 2]"
      ]
     },
     "execution_count": 51,
     "metadata": {},
     "output_type": "execute_result"
    }
   ],
   "source": [
    "l = [2,1,4,3,6,5,8,7]\n",
    "l.reverse() # inverte a ordem posicional dos elementos da lista\n",
    "l"
   ]
  },
  {
   "cell_type": "code",
   "execution_count": 52,
   "metadata": {
    "ExecuteTime": {
     "end_time": "2019-03-27T14:21:58.019565Z",
     "start_time": "2019-03-27T14:21:58.002564Z"
    }
   },
   "outputs": [
    {
     "data": {
      "text/plain": [
       "[1, 2, 3, 4, 5, 6, 7, 8]"
      ]
     },
     "execution_count": 52,
     "metadata": {},
     "output_type": "execute_result"
    }
   ],
   "source": [
    "l = [2,1,4,3,6,5,8,7]\n",
    "l.sort() # coloca os elementos em ordem sequencial crescente (por default)\n",
    "l"
   ]
  },
  {
   "cell_type": "markdown",
   "metadata": {},
   "source": [
    "Abaixo temos um exemplo de como é o comportamento de estruturas mutáveis. Note que atribuímos o valor de list_1 para a list_2 e ao alterarmos algum valor de list_2, estamos também alterando a list_1.\n",
    "\n",
    "Isso também ocorre caso uma lista seja utilizada como input de uma função. Se internamente da função alterarmos o valor da lista, a lista externa da função também será alterada."
   ]
  },
  {
   "cell_type": "code",
   "execution_count": 53,
   "metadata": {
    "ExecuteTime": {
     "end_time": "2019-03-27T14:21:58.033565Z",
     "start_time": "2019-03-27T14:21:58.021563Z"
    }
   },
   "outputs": [
    {
     "name": "stdout",
     "output_type": "stream",
     "text": [
      "lista 1: [1, 2, 3, 4, 5]\n",
      "lista 2: [1, 2, 3, 4, 5]\n",
      "lista 1: [1, 2, 7, 4, 5]\n",
      "lista 2: [1, 2, 7, 4, 5]\n",
      "lista 1: [5, 4, 2, 1]\n",
      "lista 2: [5, 4, 2, 1]\n",
      "lista 1: [5, 4, 2, 1]\n",
      "lista 2: [1, 2, 3, 4, 5, 6, 7]\n"
     ]
    }
   ],
   "source": [
    "list_1 = [1,2,3,4,5]\n",
    "list_2 = list_1\n",
    "print(\"lista 1: {}\".format(list_1))\n",
    "print(\"lista 2: {}\".format(list_2))\n",
    "list_2[2] = 7\n",
    "print(\"lista 1: {}\".format(list_1))\n",
    "print(\"lista 2: {}\".format(list_2))\n",
    "list_2[:] = [5,4,2,1]\n",
    "print(\"lista 1: {}\".format(list_1))\n",
    "print(\"lista 2: {}\".format(list_2))\n",
    "list_2 = [1,2,3,4,5,6,7]\n",
    "print(\"lista 1: {}\".format(list_1))\n",
    "print(\"lista 2: {}\".format(list_2))"
   ]
  },
  {
   "cell_type": "markdown",
   "metadata": {},
   "source": [
    "### Listas de listas\n",
    "\n",
    "Veja os exemplos abaixo:"
   ]
  },
  {
   "cell_type": "code",
   "execution_count": 54,
   "metadata": {
    "ExecuteTime": {
     "end_time": "2019-03-27T14:21:58.047562Z",
     "start_time": "2019-03-27T14:21:58.034563Z"
    }
   },
   "outputs": [
    {
     "data": {
      "text/plain": [
       "[1, 2, 3, 4, 5, 6, 7, 8, 9]"
      ]
     },
     "execution_count": 54,
     "metadata": {},
     "output_type": "execute_result"
    }
   ],
   "source": [
    "list_1 = [1,2,3]\n",
    "list_2 = [4,5,6]\n",
    "list_3 = [7,8,9]\n",
    "list_1 + list_2 + list_3"
   ]
  },
  {
   "cell_type": "code",
   "execution_count": 55,
   "metadata": {
    "ExecuteTime": {
     "end_time": "2019-03-27T14:21:58.062563Z",
     "start_time": "2019-03-27T14:21:58.049565Z"
    }
   },
   "outputs": [
    {
     "data": {
      "text/plain": [
       "[[1, 2, 3], [4, 5, 6], [7, 8, 9]]"
      ]
     },
     "execution_count": 55,
     "metadata": {},
     "output_type": "execute_result"
    }
   ],
   "source": [
    "list_of_lists = []\n",
    "list_of_lists.append(list_1)\n",
    "list_of_lists.append(list_2)\n",
    "list_of_lists.append(list_3)\n",
    "list_of_lists"
   ]
  },
  {
   "cell_type": "markdown",
   "metadata": {},
   "source": [
    "Note que no primeiro exemplo, nós concatenamos as 3 listas através do operador de soma.\n",
    "Já no segundo exemplo, criamos uma nova lista e acrescentamos as listas uma a uma na nova lista. No segundo exemplo, foi criado uma listas de listas, onde os elementos da **list_of_lists** são listas.\n",
    "\n",
    "Outra forma de inicializar essa lista seria:"
   ]
  },
  {
   "cell_type": "code",
   "execution_count": 56,
   "metadata": {
    "ExecuteTime": {
     "end_time": "2019-03-27T14:21:58.076571Z",
     "start_time": "2019-03-27T14:21:58.063566Z"
    }
   },
   "outputs": [
    {
     "data": {
      "text/plain": [
       "[[1, 2, 3], [4, 5, 6], [7, 8, 9]]"
      ]
     },
     "execution_count": 56,
     "metadata": {},
     "output_type": "execute_result"
    }
   ],
   "source": [
    "list_of_lists = [[1,2,3],\n",
    "                 [4,5,6],\n",
    "                 [7,8,9]]\n",
    "list_of_lists"
   ]
  },
  {
   "cell_type": "markdown",
   "metadata": {},
   "source": [
    "E esta lista continua sendo uma lista, então podemos acessar seu selementos da mesma forma."
   ]
  },
  {
   "cell_type": "code",
   "execution_count": 57,
   "metadata": {
    "ExecuteTime": {
     "end_time": "2019-03-27T14:21:58.097082Z",
     "start_time": "2019-03-27T14:21:58.078571Z"
    }
   },
   "outputs": [
    {
     "data": {
      "text/plain": [
       "[4, 5, 6]"
      ]
     },
     "execution_count": 57,
     "metadata": {},
     "output_type": "execute_result"
    }
   ],
   "source": [
    "list_of_lists [1] # Acesso ao elemento 1 da lista nos retorna uma lista"
   ]
  },
  {
   "cell_type": "code",
   "execution_count": 58,
   "metadata": {
    "ExecuteTime": {
     "end_time": "2019-03-27T14:21:58.109083Z",
     "start_time": "2019-03-27T14:21:58.099081Z"
    }
   },
   "outputs": [
    {
     "data": {
      "text/plain": [
       "4"
      ]
     },
     "execution_count": 58,
     "metadata": {},
     "output_type": "execute_result"
    }
   ],
   "source": [
    "list_of_lists[1][0] # Acesso ao elemento 0 da lista, que é o elemento 1 de list_of_lists"
   ]
  },
  {
   "cell_type": "code",
   "execution_count": 59,
   "metadata": {
    "ExecuteTime": {
     "end_time": "2019-03-27T14:21:58.122084Z",
     "start_time": "2019-03-27T14:21:58.111082Z"
    }
   },
   "outputs": [
    {
     "name": "stdout",
     "output_type": "stream",
     "text": [
      "[1, 2, 3]\n",
      "[4, 5, 6]\n",
      "[1, 2, 3, 4, 5, 6]\n",
      "[4, 5, 6]\n"
     ]
    }
   ],
   "source": [
    "# podemos adicionar os elementos de uma lista em outra\n",
    "print (list_1)\n",
    "print (list_2)\n",
    "list_1.extend(list_2)\n",
    "print (list_1)\n",
    "print (list_2)"
   ]
  },
  {
   "cell_type": "markdown",
   "metadata": {},
   "source": [
    "## Tuples"
   ]
  },
  {
   "cell_type": "code",
   "execution_count": 60,
   "metadata": {
    "ExecuteTime": {
     "end_time": "2019-03-27T14:21:58.137083Z",
     "start_time": "2019-03-27T14:21:58.124083Z"
    }
   },
   "outputs": [
    {
     "data": {
      "text/plain": [
       "tuple"
      ]
     },
     "execution_count": 60,
     "metadata": {},
     "output_type": "execute_result"
    }
   ],
   "source": [
    "t = ('a','b','c')\n",
    "type(t)"
   ]
  },
  {
   "cell_type": "code",
   "execution_count": 61,
   "metadata": {
    "ExecuteTime": {
     "end_time": "2019-03-27T14:21:58.155086Z",
     "start_time": "2019-03-27T14:21:58.138082Z"
    }
   },
   "outputs": [
    {
     "data": {
      "text/plain": [
       "'b'"
      ]
     },
     "execution_count": 61,
     "metadata": {},
     "output_type": "execute_result"
    }
   ],
   "source": [
    "t[1]"
   ]
  },
  {
   "cell_type": "code",
   "execution_count": 62,
   "metadata": {
    "ExecuteTime": {
     "end_time": "2019-03-27T14:21:58.171083Z",
     "start_time": "2019-03-27T14:21:58.157090Z"
    },
    "scrolled": false
   },
   "outputs": [
    {
     "ename": "TypeError",
     "evalue": "'tuple' object does not support item assignment",
     "output_type": "error",
     "traceback": [
      "\u001b[1;31m---------------------------------------------------------------------------\u001b[0m",
      "\u001b[1;31mTypeError\u001b[0m                                 Traceback (most recent call last)",
      "\u001b[1;32m<ipython-input-62-ad0bffa92c0d>\u001b[0m in \u001b[0;36m<module>\u001b[1;34m\u001b[0m\n\u001b[1;32m----> 1\u001b[1;33m \u001b[0mt\u001b[0m\u001b[1;33m[\u001b[0m\u001b[1;36m1\u001b[0m\u001b[1;33m]\u001b[0m \u001b[1;33m=\u001b[0m \u001b[1;36m5\u001b[0m \u001b[1;31m# não é possível pois tuplas não são modificáveis\u001b[0m\u001b[1;33m\u001b[0m\u001b[1;33m\u001b[0m\u001b[0m\n\u001b[0m",
      "\u001b[1;31mTypeError\u001b[0m: 'tuple' object does not support item assignment"
     ]
    }
   ],
   "source": [
    "t[1] = 5 # não é possível pois tuplas não são modificáveis"
   ]
  },
  {
   "cell_type": "markdown",
   "metadata": {},
   "source": [
    "Podemos também desempacotar todos os elementos da tupla em um comando:"
   ]
  },
  {
   "cell_type": "code",
   "execution_count": 63,
   "metadata": {
    "ExecuteTime": {
     "end_time": "2019-03-27T14:22:09.988363Z",
     "start_time": "2019-03-27T14:22:09.983362Z"
    }
   },
   "outputs": [
    {
     "name": "stdout",
     "output_type": "stream",
     "text": [
      "a\n",
      "b\n",
      "c\n"
     ]
    }
   ],
   "source": [
    "lmt_a, lmt_b, lmt_c = t\n",
    "print (lmt_a)\n",
    "print (lmt_b)\n",
    "print (lmt_c)"
   ]
  },
  {
   "cell_type": "markdown",
   "metadata": {},
   "source": [
    "## Sets\n",
    "Note que sets não possuem elementos duplicados e não são ordenados, ou seja, não mantém a ordem original do que foi atribuído. Como não possuem ordenação, não aceitam indexação, slicing."
   ]
  },
  {
   "cell_type": "code",
   "execution_count": 64,
   "metadata": {
    "ExecuteTime": {
     "end_time": "2019-03-27T14:22:10.003870Z",
     "start_time": "2019-03-27T14:22:09.991362Z"
    }
   },
   "outputs": [
    {
     "data": {
      "text/plain": [
       "{1, 2, 3, 4, 5}"
      ]
     },
     "execution_count": 64,
     "metadata": {},
     "output_type": "execute_result"
    }
   ],
   "source": [
    "st = set([5,4,3,1,5,2,3,4,5])\n",
    "st"
   ]
  },
  {
   "cell_type": "markdown",
   "metadata": {},
   "source": [
    "## Dictionaries\n",
    "Dicionários são um tipo de mapeamento. São inicializados com a utilização de **{}**, e seus elementos como **'chave' : valor**."
   ]
  },
  {
   "cell_type": "code",
   "execution_count": 65,
   "metadata": {
    "ExecuteTime": {
     "end_time": "2019-03-27T14:22:10.017376Z",
     "start_time": "2019-03-27T14:22:10.006369Z"
    }
   },
   "outputs": [
    {
     "data": {
      "text/plain": [
       "dict"
      ]
     },
     "execution_count": 65,
     "metadata": {},
     "output_type": "execute_result"
    }
   ],
   "source": [
    "d = dict()\n",
    "d = {}\n",
    "type(d)"
   ]
  },
  {
   "cell_type": "code",
   "execution_count": 66,
   "metadata": {
    "ExecuteTime": {
     "end_time": "2019-03-27T14:22:10.029376Z",
     "start_time": "2019-03-27T14:22:10.020376Z"
    }
   },
   "outputs": [
    {
     "name": "stdout",
     "output_type": "stream",
     "text": [
      "{'Trump': 2017, 'Obama': 2009, 'Bush': 2001}\n"
     ]
    }
   ],
   "source": [
    "presidents_inauguration = {}\n",
    "presidents_inauguration ['Trump'] = 2017 \n",
    "presidents_inauguration['Obama'] = 2009\n",
    "presidents_inauguration['Bush'] = 2001\n",
    "print(presidents_inauguration)"
   ]
  },
  {
   "cell_type": "code",
   "execution_count": 67,
   "metadata": {
    "ExecuteTime": {
     "end_time": "2019-03-27T14:22:10.042375Z",
     "start_time": "2019-03-27T14:22:10.030376Z"
    }
   },
   "outputs": [],
   "source": [
    "presidents_inauguration = {'Trump': 2017, \n",
    "                           'Obama': 2009, \n",
    "                           'Bush': 2001}"
   ]
  },
  {
   "cell_type": "markdown",
   "metadata": {
    "collapsed": true
   },
   "source": [
    "Dicionários são acessados utilizando as 'keys' correspondentes aos valores desejados."
   ]
  },
  {
   "cell_type": "code",
   "execution_count": 68,
   "metadata": {
    "ExecuteTime": {
     "end_time": "2019-03-27T14:22:10.055375Z",
     "start_time": "2019-03-27T14:22:10.044376Z"
    }
   },
   "outputs": [
    {
     "data": {
      "text/plain": [
       "2017"
      ]
     },
     "execution_count": 68,
     "metadata": {},
     "output_type": "execute_result"
    }
   ],
   "source": [
    "presidents_inauguration [\"Trump\"]"
   ]
  },
  {
   "cell_type": "code",
   "execution_count": 69,
   "metadata": {
    "ExecuteTime": {
     "end_time": "2019-03-27T14:22:10.068379Z",
     "start_time": "2019-03-27T14:22:10.057377Z"
    }
   },
   "outputs": [
    {
     "name": "stdout",
     "output_type": "stream",
     "text": [
      "Obama was inaugurated in 2009\n"
     ]
    }
   ],
   "source": [
    "print(\"Obama was inaugurated in \" + str(presidents_inauguration ['Obama']))\n"
   ]
  },
  {
   "cell_type": "markdown",
   "metadata": {},
   "source": [
    "Lista de todas as keys"
   ]
  },
  {
   "cell_type": "code",
   "execution_count": 70,
   "metadata": {
    "ExecuteTime": {
     "end_time": "2019-03-27T14:22:10.083376Z",
     "start_time": "2019-03-27T14:22:10.069378Z"
    }
   },
   "outputs": [
    {
     "data": {
      "text/plain": [
       "dict_keys(['Trump', 'Obama', 'Bush'])"
      ]
     },
     "execution_count": 70,
     "metadata": {},
     "output_type": "execute_result"
    }
   ],
   "source": [
    "presidents_inauguration.keys()"
   ]
  },
  {
   "cell_type": "markdown",
   "metadata": {},
   "source": [
    "lista de todos os values"
   ]
  },
  {
   "cell_type": "code",
   "execution_count": 71,
   "metadata": {
    "ExecuteTime": {
     "end_time": "2019-03-27T14:22:10.095893Z",
     "start_time": "2019-03-27T14:22:10.086376Z"
    }
   },
   "outputs": [
    {
     "data": {
      "text/plain": [
       "dict_values([2017, 2009, 2001])"
      ]
     },
     "execution_count": 71,
     "metadata": {},
     "output_type": "execute_result"
    }
   ],
   "source": [
    "presidents_inauguration.values()"
   ]
  },
  {
   "cell_type": "code",
   "execution_count": 72,
   "metadata": {
    "ExecuteTime": {
     "end_time": "2019-03-27T14:22:10.108892Z",
     "start_time": "2019-03-27T14:22:10.098392Z"
    }
   },
   "outputs": [
    {
     "data": {
      "text/plain": [
       "dict_items"
      ]
     },
     "execution_count": 72,
     "metadata": {},
     "output_type": "execute_result"
    }
   ],
   "source": [
    "type(presidents_inauguration.items())"
   ]
  },
  {
   "cell_type": "code",
   "execution_count": 73,
   "metadata": {
    "ExecuteTime": {
     "end_time": "2019-03-27T14:22:10.122309Z",
     "start_time": "2019-03-27T14:22:10.110305Z"
    },
    "scrolled": true
   },
   "outputs": [
    {
     "data": {
      "text/plain": [
       "3"
      ]
     },
     "execution_count": 73,
     "metadata": {},
     "output_type": "execute_result"
    }
   ],
   "source": [
    "len (presidents_inauguration)"
   ]
  },
  {
   "cell_type": "markdown",
   "metadata": {},
   "source": [
    "Por enquanto é só, pratique e se familiarize com a linguagem e continuaremos a explorar mais a linguagem na segunda parte deste tutorial!\n",
    "\n",
    "##### Colaboradores:\n",
    "- Kazu"
   ]
  }
 ],
 "metadata": {
  "kernelspec": {
   "display_name": "Python 3",
   "language": "python",
   "name": "python3"
  },
  "language_info": {
   "codemirror_mode": {
    "name": "ipython",
    "version": 3
   },
   "file_extension": ".py",
   "mimetype": "text/x-python",
   "name": "python",
   "nbconvert_exporter": "python",
   "pygments_lexer": "ipython3",
   "version": "3.7.1"
  }
 },
 "nbformat": 4,
 "nbformat_minor": 2
}
