{
 "cells": [
  {
   "cell_type": "markdown",
   "metadata": {},
   "source": [
    "# Tutorial Python 3.x - Parte 03\n",
    "\n",
    "Neste tutorial iremos discutir algumas funções nativas do Python de sequenciamento e fazer uma breve introdução a POO."
   ]
  },
  {
   "cell_type": "markdown",
   "metadata": {},
   "source": [
    "# Map e Filter\n",
    "\n",
    "Estas funções são utilizadas para aplicar funções simples em listas, sets, strings.\n",
    "\n",
    "- map: aplica a função em cada elemento da lista e retorna uma lista com os resultados.\n",
    "- filter: aplica a função em cada elemento da lista, a função deve retornar um valor booleano e retorna uma lista com os elementos da lista que obtiveram os resultados **True**."
   ]
  },
  {
   "cell_type": "code",
   "execution_count": 1,
   "metadata": {
    "ExecuteTime": {
     "end_time": "2019-03-27T22:35:02.134498Z",
     "start_time": "2019-03-27T22:35:02.130498Z"
    }
   },
   "outputs": [],
   "source": [
    "def my_function(x):\n",
    "    if x <10:\n",
    "        return 2*x"
   ]
  },
  {
   "cell_type": "code",
   "execution_count": 2,
   "metadata": {
    "ExecuteTime": {
     "end_time": "2019-03-27T22:35:02.156497Z",
     "start_time": "2019-03-27T22:35:02.136496Z"
    }
   },
   "outputs": [
    {
     "data": {
      "text/plain": [
       "[2, 4, 6, 8, 10]"
      ]
     },
     "execution_count": 2,
     "metadata": {},
     "output_type": "execute_result"
    }
   ],
   "source": [
    "my_list = [1,2,3,4,5]\n",
    "list(map(my_function, my_list))"
   ]
  },
  {
   "cell_type": "code",
   "execution_count": 3,
   "metadata": {
    "ExecuteTime": {
     "end_time": "2019-03-27T22:35:02.173996Z",
     "start_time": "2019-03-27T22:35:02.158995Z"
    }
   },
   "outputs": [
    {
     "data": {
      "text/plain": [
       "[2, 4, 6, 8, 10]"
      ]
     },
     "execution_count": 3,
     "metadata": {},
     "output_type": "execute_result"
    }
   ],
   "source": [
    "# a função pode ser uma função lambda\n",
    "list(map(lambda x: 2*x, my_list))"
   ]
  },
  {
   "cell_type": "code",
   "execution_count": 4,
   "metadata": {
    "ExecuteTime": {
     "end_time": "2019-03-27T22:35:02.191496Z",
     "start_time": "2019-03-27T22:35:02.175496Z"
    }
   },
   "outputs": [
    {
     "data": {
      "text/plain": [
       "[3, 5, 7]"
      ]
     },
     "execution_count": 4,
     "metadata": {},
     "output_type": "execute_result"
    }
   ],
   "source": [
    "my_list = [\"3\",\"5\", \"7\"]\n",
    "# ou uma função built-in do Python\n",
    "list (map(int, my_list))"
   ]
  },
  {
   "cell_type": "code",
   "execution_count": 5,
   "metadata": {
    "ExecuteTime": {
     "end_time": "2019-03-27T22:35:02.204998Z",
     "start_time": "2019-03-27T22:35:02.194498Z"
    },
    "scrolled": true
   },
   "outputs": [
    {
     "data": {
      "text/plain": [
       "[False,\n",
       " False,\n",
       " False,\n",
       " False,\n",
       " False,\n",
       " True,\n",
       " True,\n",
       " True,\n",
       " False,\n",
       " False,\n",
       " False,\n",
       " False,\n",
       " False,\n",
       " True,\n",
       " True,\n",
       " True]"
      ]
     },
     "execution_count": 5,
     "metadata": {},
     "output_type": "execute_result"
    }
   ],
   "source": [
    "list(map(lambda x: x > 5, [1,2,3,4,5,6,7,8,1,2,3,4,5,6,7,8]))"
   ]
  },
  {
   "cell_type": "code",
   "execution_count": 6,
   "metadata": {
    "ExecuteTime": {
     "end_time": "2019-03-27T22:35:02.219497Z",
     "start_time": "2019-03-27T22:35:02.208498Z"
    }
   },
   "outputs": [
    {
     "data": {
      "text/plain": [
       "[6, 7, 8, 6, 7, 8]"
      ]
     },
     "execution_count": 6,
     "metadata": {},
     "output_type": "execute_result"
    }
   ],
   "source": [
    "list(filter(lambda x: x > 5, [1,2,3,4,5,6,7,8,1,2,3,4,5,6,7,8]))"
   ]
  },
  {
   "cell_type": "markdown",
   "metadata": {},
   "source": [
    "# Iterators"
   ]
  },
  {
   "cell_type": "markdown",
   "metadata": {},
   "source": [
    "Iterador é uma classe que possibilita percorrer uma sequência definida por uma regra. Ela requer a implementação de dois métodos $__iter__()$ e $__next()__$. Dessa forma podemos iterar em loops, gerar sequências como listas, tuplas, sets.\n",
    "\n",
    "Também podemos implementar uma função que usa **yield** em vez de return. Ele permite que a função \"salve\" as informações da ultima chamada da função."
   ]
  },
  {
   "cell_type": "code",
   "execution_count": 7,
   "metadata": {
    "ExecuteTime": {
     "end_time": "2019-03-27T22:35:02.235494Z",
     "start_time": "2019-03-27T22:35:02.220995Z"
    }
   },
   "outputs": [
    {
     "name": "stdout",
     "output_type": "stream",
     "text": [
      "<class 'list_iterator'>\n",
      "3\n",
      "5\n"
     ]
    }
   ],
   "source": [
    "it = iter(my_list) # criando um iterador a partir de uma lista\n",
    "print (type (it))\n",
    "print (next(it))\n",
    "print (next(it))"
   ]
  },
  {
   "cell_type": "code",
   "execution_count": 8,
   "metadata": {
    "ExecuteTime": {
     "end_time": "2019-03-27T22:35:02.250496Z",
     "start_time": "2019-03-27T22:35:02.237495Z"
    }
   },
   "outputs": [
    {
     "name": "stdout",
     "output_type": "stream",
     "text": [
      "a\n",
      "e\n",
      "i\n",
      "o\n",
      "u\n"
     ]
    }
   ],
   "source": [
    "# list of vowels\n",
    "vowels = ['a', 'e', 'i', 'o', 'u']\n",
    "vowelsIter = iter(vowels)\n",
    "\n",
    "print(next(vowelsIter)) # prints 'a'\n",
    "\n",
    "print(next(vowelsIter)) # prints 'e'\n",
    "\n",
    "print(next(vowelsIter)) # prints 'i'\n",
    "\n",
    "print(next(vowelsIter)) # prints 'o'\n",
    "\n",
    "print(next(vowelsIter)) # prints 'u'"
   ]
  },
  {
   "cell_type": "code",
   "execution_count": 9,
   "metadata": {
    "ExecuteTime": {
     "end_time": "2019-03-27T22:35:02.267499Z",
     "start_time": "2019-03-27T22:35:02.251994Z"
    }
   },
   "outputs": [],
   "source": [
    "def my_iterating_function (): # criando um iterador a partir de uma função\n",
    "    i = 0\n",
    "    while True:\n",
    "        i = i + 1\n",
    "        yield i*i"
   ]
  },
  {
   "cell_type": "code",
   "execution_count": 10,
   "metadata": {
    "ExecuteTime": {
     "end_time": "2019-03-27T22:35:02.284995Z",
     "start_time": "2019-03-27T22:35:02.269494Z"
    },
    "scrolled": true
   },
   "outputs": [
    {
     "name": "stdout",
     "output_type": "stream",
     "text": [
      "1\n",
      "4\n",
      "9\n",
      "16\n",
      "25\n",
      "36\n",
      "49\n",
      "64\n",
      "81\n",
      "100\n",
      "121\n"
     ]
    }
   ],
   "source": [
    "for x in my_iterating_function():\n",
    "    print (x)\n",
    "    if x > 100:\n",
    "        break"
   ]
  },
  {
   "cell_type": "markdown",
   "metadata": {},
   "source": [
    "## Zip\n",
    "O Zip combina multiplos objetos iteráveis em uma única estrutura de dados."
   ]
  },
  {
   "cell_type": "code",
   "execution_count": 11,
   "metadata": {
    "ExecuteTime": {
     "end_time": "2019-03-27T22:35:02.302498Z",
     "start_time": "2019-03-27T22:35:02.286998Z"
    }
   },
   "outputs": [
    {
     "data": {
      "text/plain": [
       "[('Ja', 1, 3), ('Beel', 4, 4), ('Madison', 9, 5)]"
      ]
     },
     "execution_count": 11,
     "metadata": {},
     "output_type": "execute_result"
    }
   ],
   "source": [
    "names = [ \"Ja\", \"Beel\", \"Madison\"]\n",
    "last_game = [1,4,9]\n",
    "previous_game = [3,4,5,0]\n",
    "player_performance = list( zip( names, last_game, previous_game ) )\n",
    "player_performance"
   ]
  },
  {
   "cell_type": "markdown",
   "metadata": {},
   "source": [
    "# Recursion"
   ]
  },
  {
   "cell_type": "code",
   "execution_count": 12,
   "metadata": {
    "ExecuteTime": {
     "end_time": "2019-03-27T22:35:02.321993Z",
     "start_time": "2019-03-27T22:35:02.303995Z"
    }
   },
   "outputs": [],
   "source": [
    "def my_function_1 (x):\n",
    "    return x + 1"
   ]
  },
  {
   "cell_type": "code",
   "execution_count": 13,
   "metadata": {
    "ExecuteTime": {
     "end_time": "2019-03-27T22:35:02.333498Z",
     "start_time": "2019-03-27T22:35:02.323494Z"
    }
   },
   "outputs": [],
   "source": [
    "def my_function_2 (x,y):\n",
    "    return my_function_1 (x) * my_function_1 (y)"
   ]
  },
  {
   "cell_type": "code",
   "execution_count": 14,
   "metadata": {
    "ExecuteTime": {
     "end_time": "2019-03-27T22:35:02.351498Z",
     "start_time": "2019-03-27T22:35:02.334995Z"
    },
    "scrolled": true
   },
   "outputs": [
    {
     "data": {
      "text/plain": [
       "12"
      ]
     },
     "execution_count": 14,
     "metadata": {},
     "output_type": "execute_result"
    }
   ],
   "source": [
    "my_function_2 (2,3)"
   ]
  },
  {
   "cell_type": "markdown",
   "metadata": {},
   "source": [
    "Descrição de recursão"
   ]
  },
  {
   "cell_type": "code",
   "execution_count": 15,
   "metadata": {
    "ExecuteTime": {
     "end_time": "2019-03-27T22:35:02.363498Z",
     "start_time": "2019-03-27T22:35:02.352996Z"
    }
   },
   "outputs": [],
   "source": [
    "def factorial (x):\n",
    "    if x == 1:\n",
    "        return 1\n",
    "    return factorial (x-1) * x"
   ]
  },
  {
   "cell_type": "code",
   "execution_count": 16,
   "metadata": {
    "ExecuteTime": {
     "end_time": "2019-03-27T22:35:02.384995Z",
     "start_time": "2019-03-27T22:35:02.364995Z"
    }
   },
   "outputs": [
    {
     "data": {
      "text/plain": [
       "120"
      ]
     },
     "execution_count": 16,
     "metadata": {},
     "output_type": "execute_result"
    }
   ],
   "source": [
    "factorial (5)"
   ]
  },
  {
   "cell_type": "code",
   "execution_count": 17,
   "metadata": {
    "ExecuteTime": {
     "end_time": "2019-03-27T22:35:02.396497Z",
     "start_time": "2019-03-27T22:35:02.385995Z"
    }
   },
   "outputs": [],
   "source": [
    "def factorial (x):\n",
    "    print (\"now we call the function for\", x)\n",
    "    if x == 1:\n",
    "        return 1\n",
    "    y = factorial (x-1)\n",
    "    print (\"intermediate result for \", x-1, \"is\", y)\n",
    "    return  y * x"
   ]
  },
  {
   "cell_type": "code",
   "execution_count": 18,
   "metadata": {
    "ExecuteTime": {
     "end_time": "2019-03-27T22:35:02.415498Z",
     "start_time": "2019-03-27T22:35:02.397995Z"
    }
   },
   "outputs": [
    {
     "name": "stdout",
     "output_type": "stream",
     "text": [
      "now we call the function for 5\n",
      "now we call the function for 4\n",
      "now we call the function for 3\n",
      "now we call the function for 2\n",
      "now we call the function for 1\n",
      "intermediate result for  1 is 1\n",
      "intermediate result for  2 is 2\n",
      "intermediate result for  3 is 6\n",
      "intermediate result for  4 is 24\n",
      "Final result 120\n"
     ]
    }
   ],
   "source": [
    "print (\"Final result\", factorial (5))"
   ]
  },
  {
   "cell_type": "markdown",
   "metadata": {},
   "source": [
    "A more complex task:\n",
    "In our currency, we have coins with values (200,100,50,20,10,5,2,1) cents. We will write a function that computes, *how many different options exist to pay a certain amount X*."
   ]
  },
  {
   "cell_type": "code",
   "execution_count": 19,
   "metadata": {
    "ExecuteTime": {
     "end_time": "2019-03-27T22:35:02.430498Z",
     "start_time": "2019-03-27T22:35:02.424495Z"
    }
   },
   "outputs": [],
   "source": [
    "def pay_options (amount, list_of_coin_values, list_of_used_coins=[]):\n",
    "    #print (amount, list_of_coin_values, list_of_used_coins)\n",
    "    result = []\n",
    "    for i, v in enumerate (list_of_coin_values):\n",
    "        if amount > v:\n",
    "            new_used_coins = list_of_used_coins.copy()\n",
    "            new_used_coins.append(v)\n",
    "            result.extend (pay_options (amount - v, list_of_coin_values [i:], new_used_coins))\n",
    "        elif amount == v:\n",
    "            new_option = list_of_used_coins.copy()\n",
    "            new_option.append(v)          \n",
    "            result.append (new_option)\n",
    "    return result; "
   ]
  },
  {
   "cell_type": "code",
   "execution_count": 20,
   "metadata": {
    "ExecuteTime": {
     "end_time": "2019-03-27T22:35:02.444998Z",
     "start_time": "2019-03-27T22:35:02.432497Z"
    },
    "scrolled": false
   },
   "outputs": [
    {
     "data": {
      "text/plain": [
       "[[10],\n",
       " [5, 5],\n",
       " [5, 2, 2, 1],\n",
       " [5, 2, 1, 1, 1],\n",
       " [5, 1, 1, 1, 1, 1],\n",
       " [2, 2, 2, 2, 2],\n",
       " [2, 2, 2, 2, 1, 1],\n",
       " [2, 2, 2, 1, 1, 1, 1],\n",
       " [2, 2, 1, 1, 1, 1, 1, 1],\n",
       " [2, 1, 1, 1, 1, 1, 1, 1, 1],\n",
       " [1, 1, 1, 1, 1, 1, 1, 1, 1, 1]]"
      ]
     },
     "execution_count": 20,
     "metadata": {},
     "output_type": "execute_result"
    }
   ],
   "source": [
    "pay_options (10, [200,100,50,20,10,5,2,1])"
   ]
  },
  {
   "cell_type": "markdown",
   "metadata": {},
   "source": [
    "# Classes and Object-orientation\n",
    "\n",
    "Texto sobre classes, objetos, poo etc"
   ]
  },
  {
   "cell_type": "markdown",
   "metadata": {},
   "source": [
    "Classes describe *types* of objects. We already used a couple of existing classes, e.g., lists, sets, ...\n",
    "We can also define our own classes with its own attributes, i.e., variables (\"fields\") and methods. In this lecture, we own very briefly outline these options."
   ]
  },
  {
   "cell_type": "code",
   "execution_count": 21,
   "metadata": {
    "ExecuteTime": {
     "end_time": "2019-03-27T22:35:02.457999Z",
     "start_time": "2019-03-27T22:35:02.446499Z"
    }
   },
   "outputs": [],
   "source": [
    "#Another example:\n",
    "class Book:\n",
    "    def __init__(self, title, number_of_pages):\n",
    "        self.title = title\n",
    "        self.number_of_pages = number_of_pages\n",
    "    \n",
    "    def __repr__ (self):\n",
    "        return self.title"
   ]
  },
  {
   "cell_type": "code",
   "execution_count": 22,
   "metadata": {
    "ExecuteTime": {
     "end_time": "2019-03-27T22:35:02.473495Z",
     "start_time": "2019-03-27T22:35:02.459498Z"
    }
   },
   "outputs": [
    {
     "name": "stdout",
     "output_type": "stream",
     "text": [
      "Happy_Rotter\n",
      "Austin and Jane\n",
      "The little frog\n"
     ]
    }
   ],
   "source": [
    "book1 = Book(\"Happy_Rotter\", 386)\n",
    "book2 = Book(\"Austin and Jane\", 256)\n",
    "book3 = Book (\"The little frog\", 14)\n",
    "\n",
    "my_list = [book1, book2, book3]\n",
    "for b in my_list:\n",
    "    print (b)"
   ]
  },
  {
   "cell_type": "code",
   "execution_count": 23,
   "metadata": {
    "ExecuteTime": {
     "end_time": "2019-03-27T22:35:02.491496Z",
     "start_time": "2019-03-27T22:35:02.474996Z"
    }
   },
   "outputs": [
    {
     "name": "stdout",
     "output_type": "stream",
     "text": [
      "386\n",
      "256\n",
      "14\n"
     ]
    }
   ],
   "source": [
    "for b in my_list:\n",
    "    print (b.number_of_pages)"
   ]
  },
  {
   "cell_type": "code",
   "execution_count": 24,
   "metadata": {
    "ExecuteTime": {
     "end_time": "2019-03-27T22:35:02.507496Z",
     "start_time": "2019-03-27T22:35:02.493500Z"
    }
   },
   "outputs": [],
   "source": [
    "class Book:\n",
    "    def __init__(self, title, number_of_pages):\n",
    "        self.title = title\n",
    "        self.number_of_pages = number_of_pages\n",
    "    \n",
    "    def __repr__ (self):\n",
    "        return self.title\n",
    "    \n",
    "    def add_pages (self, pages):\n",
    "        self.number_of_pages += pages"
   ]
  },
  {
   "cell_type": "code",
   "execution_count": 25,
   "metadata": {
    "ExecuteTime": {
     "end_time": "2019-03-27T22:35:02.526495Z",
     "start_time": "2019-03-27T22:35:02.508994Z"
    }
   },
   "outputs": [
    {
     "data": {
      "text/plain": [
       "396"
      ]
     },
     "execution_count": 25,
     "metadata": {},
     "output_type": "execute_result"
    }
   ],
   "source": [
    "book1 = Book(\"Happy_Rotter\", 386)\n",
    "book1.add_pages(10)\n",
    "book1.number_of_pages"
   ]
  },
  {
   "cell_type": "code",
   "execution_count": 26,
   "metadata": {
    "ExecuteTime": {
     "end_time": "2019-03-27T22:35:02.540497Z",
     "start_time": "2019-03-27T22:35:02.529497Z"
    }
   },
   "outputs": [],
   "source": [
    "class Book:\n",
    "    def __init__(self, title, number_of_pages):\n",
    "        self.title = title\n",
    "        self.number_of_pages = number_of_pages\n",
    "    \n",
    "    def __repr__ (self):\n",
    "        return self.title\n",
    "    \n",
    "    def add_pages (self, pages):\n",
    "        self.number_of_pages += pages\n",
    "    \n",
    "    #Now, we override the \"+\" operator\n",
    "    def __add__ (self, other_book):\n",
    "        return Book (self.title + \"_AND_\" + other_book.title, self.number_of_pages+other_book.number_of_pages)"
   ]
  },
  {
   "cell_type": "code",
   "execution_count": 27,
   "metadata": {
    "ExecuteTime": {
     "end_time": "2019-03-27T22:35:02.565996Z",
     "start_time": "2019-03-27T22:35:02.541995Z"
    }
   },
   "outputs": [
    {
     "name": "stdout",
     "output_type": "stream",
     "text": [
      "Happy_Rotter_AND_Austin and Jane\n",
      "642\n"
     ]
    }
   ],
   "source": [
    "book1 = Book(\"Happy_Rotter\", 386)\n",
    "book2 = Book(\"Austin and Jane\", 256)\n",
    "\n",
    "b3 = book1 + book2\n",
    "print (b3)\n",
    "print (b3.number_of_pages)"
   ]
  },
  {
   "cell_type": "markdown",
   "metadata": {},
   "source": [
    "Similar to the init and the repr functions, there are more functions with special meaning, e.g., to overwrite operators. Here is one overview:\n",
    "http://www.siafoo.net/article/57\n",
    "\n",
    "More information can of course be found in the official Python documentation: https://docs.python.org/3/tutorial/classes.html"
   ]
  },
  {
   "cell_type": "code",
   "execution_count": 28,
   "metadata": {
    "ExecuteTime": {
     "end_time": "2019-03-27T22:35:02.579997Z",
     "start_time": "2019-03-27T22:35:02.567498Z"
    }
   },
   "outputs": [],
   "source": [
    "#another example:\n",
    "class Bank_Account:\n",
    "    def __init__(self, owner, acc_number):\n",
    "        self.owner = owner\n",
    "        self.account_number = acc_number\n",
    "        self.balance = 0\n",
    "        self.transactions = []\n",
    "    \n",
    "    def transactions_from (self, other_account, amount):\n",
    "        self.transactions.append ((other_account, amount))\n",
    "        self.balance += amount\n",
    "    \n",
    "    def transaction_to (self, other_account, amount):\n",
    "        self.transactions.append ((other_account, -amount))\n",
    "        self.balance -= amount\n",
    "        \n",
    "    def print_history(self):\n",
    "        for t in self.transactions:\n",
    "            print (str(t[0]) + \"\\t\" + str(t[1]))\n",
    "    \n",
    "    def add_interest (self, rate):\n",
    "        self.balance *= rate\n",
    "    \n",
    "    # This is also not required\n",
    "    def __repr__ (self):\n",
    "        return self.owner + \", \" + str (self.account_number) + \": \" + str(self.balance)"
   ]
  },
  {
   "cell_type": "code",
   "execution_count": 29,
   "metadata": {
    "ExecuteTime": {
     "end_time": "2019-03-27T22:35:02.596497Z",
     "start_time": "2019-03-27T22:35:02.581495Z"
    }
   },
   "outputs": [
    {
     "name": "stdout",
     "output_type": "stream",
     "text": [
      "Florian\n",
      "0\n",
      "Florian, 1234567: 0\n"
     ]
    }
   ],
   "source": [
    "account = Bank_Account(\"Florian\", 1234567)\n",
    "print (account.owner)\n",
    "print (account.balance)\n",
    "print (account)"
   ]
  },
  {
   "cell_type": "code",
   "execution_count": 30,
   "metadata": {
    "ExecuteTime": {
     "end_time": "2019-03-27T22:35:02.608995Z",
     "start_time": "2019-03-27T22:35:02.597994Z"
    }
   },
   "outputs": [
    {
     "name": "stdout",
     "output_type": "stream",
     "text": [
      "RWTH Aachen\t1000\n",
      "Didl\t-99.5\n",
      "Deutsche Bahn\t-237.0\n"
     ]
    }
   ],
   "source": [
    "account.transactions_from (\"RWTH Aachen\", 1000)\n",
    "account.transaction_to (\"Didl\", 99.5)\n",
    "account.transaction_to (\"Deutsche Bahn\", 237.0)\n",
    "account.add_interest(1.02)\n",
    "\n",
    "account.print_history()"
   ]
  },
  {
   "cell_type": "code",
   "execution_count": 31,
   "metadata": {
    "ExecuteTime": {
     "end_time": "2019-03-27T22:35:02.621502Z",
     "start_time": "2019-03-27T22:35:02.610494Z"
    },
    "scrolled": true
   },
   "outputs": [
    {
     "name": "stdout",
     "output_type": "stream",
     "text": [
      "Florian, 1234567: 676.77\n"
     ]
    }
   ],
   "source": [
    "print (account)"
   ]
  },
  {
   "cell_type": "code",
   "execution_count": null,
   "metadata": {},
   "outputs": [],
   "source": []
  },
  {
   "cell_type": "code",
   "execution_count": null,
   "metadata": {},
   "outputs": [],
   "source": []
  }
 ],
 "metadata": {
  "kernelspec": {
   "display_name": "Python 3",
   "language": "python",
   "name": "python3"
  },
  "language_info": {
   "codemirror_mode": {
    "name": "ipython",
    "version": 3
   },
   "file_extension": ".py",
   "mimetype": "text/x-python",
   "name": "python",
   "nbconvert_exporter": "python",
   "pygments_lexer": "ipython3",
   "version": "3.7.1"
  },
  "toc": {
   "colors": {
    "hover_highlight": "#DAA520",
    "navigate_num": "#000000",
    "navigate_text": "#333333",
    "running_highlight": "#FF0000",
    "selected_highlight": "#FFD700",
    "sidebar_border": "#EEEEEE",
    "wrapper_background": "#FFFFFF"
   },
   "moveMenuLeft": true,
   "nav_menu": {
    "height": "122px",
    "width": "252px"
   },
   "navigate_menu": true,
   "number_sections": true,
   "sideBar": true,
   "threshold": 4,
   "toc_cell": false,
   "toc_section_display": "block",
   "toc_window_display": false,
   "widenNotebook": false
  },
  "varInspector": {
   "cols": {
    "lenName": 16,
    "lenType": 16,
    "lenVar": 40
   },
   "kernels_config": {
    "python": {
     "delete_cmd_postfix": "",
     "delete_cmd_prefix": "del ",
     "library": "var_list.py",
     "varRefreshCmd": "print(var_dic_list())"
    },
    "r": {
     "delete_cmd_postfix": ") ",
     "delete_cmd_prefix": "rm(",
     "library": "var_list.r",
     "varRefreshCmd": "cat(var_dic_list()) "
    }
   },
   "types_to_exclude": [
    "module",
    "function",
    "builtin_function_or_method",
    "instance",
    "_Feature"
   ],
   "window_display": false
  }
 },
 "nbformat": 4,
 "nbformat_minor": 2
}
