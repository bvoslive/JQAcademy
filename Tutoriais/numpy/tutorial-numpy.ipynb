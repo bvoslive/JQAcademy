{
 "cells": [
  {
   "cell_type": "markdown",
   "metadata": {},
   "source": [
    "# Tutorial Numpy\n",
    "\n",
    "Bem-vindo ao tutorial de Numpy(!!!...!!)\n",
    "\n",
    "O Numpy é uma biblioteca que fornece uma estrutura que é usada como base para várias outras bibliotecas como Scipy, matplotlib e pandas. É de grande importância, pois ela permite que as contas sejam feitas de maneira vetorizada, ou seja, mais rápida e eficiente. \n",
    "\n",
    "A base estrutural do Numpy são as **arrays**. Elas são parecidas com listas, porém tem tamanho fixo e todos seus elementos são de mesmo tipo.\n",
    "\n",
    "Para saber mais a fundo, veja o [tutorial do numpy](https://docs.scipy.org/doc/numpy/user/quickstart.html), [introdução básica](https://docs.scipy.org/doc/numpy/user/basics.html) e [documentação de métodos implementados](https://docs.scipy.org/doc/numpy/reference/routines.html).\n",
    "\n",
    "Ou caso tenha alguma pergunta, sugestão ou apenas quiser nos conhecer, junte-se ao [nosso slack J!QAcademy](https://bit.ly/Jqaslack).\n",
    "\n",
    "Primeiramente, vamos importar essa biblioteca para nosso notebook, e atribuir um \"nick\" para ela: **np**."
   ]
  },
  {
   "cell_type": "code",
   "execution_count": 1,
   "metadata": {
    "ExecuteTime": {
     "end_time": "2019-03-25T20:50:46.282190Z",
     "start_time": "2019-03-25T20:50:46.201178Z"
    }
   },
   "outputs": [],
   "source": [
    "import numpy as np"
   ]
  },
  {
   "cell_type": "markdown",
   "metadata": {},
   "source": [
    "## Criação de ndarrays\n",
    "Na documentação conseguimos ver que o método np.array() possui 6 argumentos, dos quais 5 são opcionais e 1 é obrigatório (object). E a descrição dele é \"Create an array.\". Veja que cada argumento é descrito na seção \"Parameters\" com o tipo de entrada que cada argumento e se é opcional e uma descrição do que o argumento influencia na função. Em geral, bibliotecas bem documentadas possuem esse formato de especificação de métodos e funções. Sempre atente para os tipos de objetos que cada argumento requer e o tipo de objeto que sai da função, neste caso '[ndarray](https://docs.scipy.org/doc/numpy/reference/generated/numpy.array.html)' que é o formato da estrutura do numpy.\n",
    "\n",
    "![Imagem da documentação do numpy.array.](images/array-doc.png)\n"
   ]
  },
  {
   "cell_type": "code",
   "execution_count": 2,
   "metadata": {
    "ExecuteTime": {
     "end_time": "2019-03-25T20:50:46.297194Z",
     "start_time": "2019-03-25T20:50:46.285687Z"
    },
    "scrolled": false
   },
   "outputs": [
    {
     "data": {
      "text/plain": [
       "array([11, 12, 13, 14, 15, 16, 17, 18, 19])"
      ]
     },
     "execution_count": 2,
     "metadata": {},
     "output_type": "execute_result"
    }
   ],
   "source": [
    "x = np.array([11,12,13,14,15,16,17,18,19])\n",
    "x"
   ]
  },
  {
   "cell_type": "markdown",
   "metadata": {},
   "source": [
    "## Tipo de variável das arrays (dtypes)\n",
    "Abaixo seguem alguns exemplos de como criar arrays no numpy, e também alguns exemplos especificando o tipo das variáveis."
   ]
  },
  {
   "cell_type": "code",
   "execution_count": 3,
   "metadata": {
    "ExecuteTime": {
     "end_time": "2019-03-25T20:50:46.311192Z",
     "start_time": "2019-03-25T20:50:46.301192Z"
    }
   },
   "outputs": [
    {
     "data": {
      "text/plain": [
       "dtype('int32')"
      ]
     },
     "execution_count": 3,
     "metadata": {},
     "output_type": "execute_result"
    }
   ],
   "source": [
    "x = np.array ([1,2,3])\n",
    "x.dtype"
   ]
  },
  {
   "cell_type": "code",
   "execution_count": 4,
   "metadata": {
    "ExecuteTime": {
     "end_time": "2019-03-25T20:50:46.325194Z",
     "start_time": "2019-03-25T20:50:46.312191Z"
    }
   },
   "outputs": [
    {
     "data": {
      "text/plain": [
       "dtype('float64')"
      ]
     },
     "execution_count": 4,
     "metadata": {},
     "output_type": "execute_result"
    }
   ],
   "source": [
    "x = np.array ([1.4,2.2,3.5])\n",
    "x.dtype"
   ]
  },
  {
   "cell_type": "code",
   "execution_count": 5,
   "metadata": {
    "ExecuteTime": {
     "end_time": "2019-03-25T20:50:46.339191Z",
     "start_time": "2019-03-25T20:50:46.327193Z"
    }
   },
   "outputs": [
    {
     "data": {
      "text/plain": [
       "dtype('bool')"
      ]
     },
     "execution_count": 5,
     "metadata": {},
     "output_type": "execute_result"
    }
   ],
   "source": [
    "x = np.array ([True, False])\n",
    "x.dtype"
   ]
  },
  {
   "cell_type": "code",
   "execution_count": 6,
   "metadata": {
    "ExecuteTime": {
     "end_time": "2019-03-25T20:50:46.352194Z",
     "start_time": "2019-03-25T20:50:46.340191Z"
    }
   },
   "outputs": [
    {
     "data": {
      "text/plain": [
       "array([1., 2., 3.])"
      ]
     },
     "execution_count": 6,
     "metadata": {},
     "output_type": "execute_result"
    }
   ],
   "source": [
    "x = np.array ([1,2,3], dtype=np.float64)\n",
    "x"
   ]
  },
  {
   "cell_type": "code",
   "execution_count": 7,
   "metadata": {
    "ExecuteTime": {
     "end_time": "2019-03-25T20:50:46.365193Z",
     "start_time": "2019-03-25T20:50:46.353191Z"
    }
   },
   "outputs": [
    {
     "data": {
      "text/plain": [
       "array([ True, False,  True])"
      ]
     },
     "execution_count": 7,
     "metadata": {},
     "output_type": "execute_result"
    }
   ],
   "source": [
    "x = np.array ([1,0,3], dtype=np.bool)\n",
    "x"
   ]
  },
  {
   "cell_type": "markdown",
   "metadata": {},
   "source": [
    "## Método [ndarray.shape()](https://docs.scipy.org/doc/numpy/reference/generated/numpy.ndarray.shape.html)\n",
    "Este método retorna o tamanho de cada dimensão da array."
   ]
  },
  {
   "cell_type": "code",
   "execution_count": 8,
   "metadata": {
    "ExecuteTime": {
     "end_time": "2019-03-25T20:50:46.379202Z",
     "start_time": "2019-03-25T20:50:46.369191Z"
    }
   },
   "outputs": [
    {
     "data": {
      "text/plain": [
       "(4, 2)"
      ]
     },
     "execution_count": 8,
     "metadata": {},
     "output_type": "execute_result"
    }
   ],
   "source": [
    "x = np.array ([[11,12],\n",
    "               [21,22],\n",
    "               [31,32],\n",
    "               [41,42]])\n",
    "x.shape"
   ]
  },
  {
   "cell_type": "markdown",
   "metadata": {},
   "source": [
    "### Criação de arrays a partir do shape\n",
    "Podemos criar arrays a partir de funções que não necessitam do valor explícito de cada elemento. Neste caso daremos exemplos exemplos de criação a partir do shape, mas [aqui](https://docs.scipy.org/doc/numpy/user/basics.creation.html#intrinsic-numpy-array-creation) temos exemplos de outros tipos de funções intrínsecas que usam outros tipos de inputs."
   ]
  },
  {
   "cell_type": "code",
   "execution_count": 9,
   "metadata": {
    "ExecuteTime": {
     "end_time": "2019-03-25T20:50:46.402209Z",
     "start_time": "2019-03-25T20:50:46.385201Z"
    }
   },
   "outputs": [
    {
     "data": {
      "text/plain": [
       "array([0., 0., 0., 0., 0., 0., 0., 0., 0., 0.])"
      ]
     },
     "execution_count": 9,
     "metadata": {},
     "output_type": "execute_result"
    }
   ],
   "source": [
    "x = np.zeros(10)\n",
    "x"
   ]
  },
  {
   "cell_type": "code",
   "execution_count": 10,
   "metadata": {
    "ExecuteTime": {
     "end_time": "2019-03-25T20:50:46.417211Z",
     "start_time": "2019-03-25T20:50:46.404210Z"
    },
    "scrolled": true
   },
   "outputs": [
    {
     "data": {
      "text/plain": [
       "array([[0., 0., 0., 0., 0.],\n",
       "       [0., 0., 0., 0., 0.],\n",
       "       [0., 0., 0., 0., 0.],\n",
       "       [0., 0., 0., 0., 0.],\n",
       "       [0., 0., 0., 0., 0.]])"
      ]
     },
     "execution_count": 10,
     "metadata": {},
     "output_type": "execute_result"
    }
   ],
   "source": [
    "y = np.zeros((5,5))\n",
    "y"
   ]
  },
  {
   "cell_type": "code",
   "execution_count": 11,
   "metadata": {
    "ExecuteTime": {
     "end_time": "2019-03-25T20:50:46.436208Z",
     "start_time": "2019-03-25T20:50:46.419210Z"
    },
    "scrolled": true
   },
   "outputs": [
    {
     "data": {
      "text/plain": [
       "array([[1., 1., 1., 1., 1.],\n",
       "       [1., 1., 1., 1., 1.],\n",
       "       [1., 1., 1., 1., 1.],\n",
       "       [1., 1., 1., 1., 1.],\n",
       "       [1., 1., 1., 1., 1.]])"
      ]
     },
     "execution_count": 11,
     "metadata": {},
     "output_type": "execute_result"
    }
   ],
   "source": [
    "np.ones (y.shape)"
   ]
  },
  {
   "cell_type": "markdown",
   "metadata": {},
   "source": [
    "### Método [np.reshape()](https://docs.scipy.org/doc/numpy/reference/generated/numpy.reshape.html)\n",
    "Com este método, podemos rearranjar o shape das arrays. Atente que podemos alterar a ordem dos elementos da array final."
   ]
  },
  {
   "cell_type": "code",
   "execution_count": 12,
   "metadata": {
    "ExecuteTime": {
     "end_time": "2019-03-25T20:50:46.451218Z",
     "start_time": "2019-03-25T20:50:46.437211Z"
    },
    "scrolled": false
   },
   "outputs": [
    {
     "data": {
      "text/plain": [
       "array([[ 1,  2],\n",
       "       [ 3,  4],\n",
       "       [ 5,  6],\n",
       "       [ 7,  8],\n",
       "       [ 9, 10],\n",
       "       [11, 12]])"
      ]
     },
     "execution_count": 12,
     "metadata": {},
     "output_type": "execute_result"
    }
   ],
   "source": [
    "x = np.array([1,2,3,4,5,6,7,8,9,10,11,12])\n",
    "y = x.reshape ((6,2))\n",
    "y"
   ]
  },
  {
   "cell_type": "code",
   "execution_count": 13,
   "metadata": {
    "ExecuteTime": {
     "end_time": "2019-03-25T20:50:46.464209Z",
     "start_time": "2019-03-25T20:50:46.453211Z"
    }
   },
   "outputs": [
    {
     "data": {
      "text/plain": [
       "array([[ 1,  7],\n",
       "       [ 2,  8],\n",
       "       [ 3,  9],\n",
       "       [ 4, 10],\n",
       "       [ 5, 11],\n",
       "       [ 6, 12]])"
      ]
     },
     "execution_count": 13,
     "metadata": {},
     "output_type": "execute_result"
    }
   ],
   "source": [
    "x.reshape ((6,2), order='F')"
   ]
  },
  {
   "cell_type": "markdown",
   "metadata": {
    "collapsed": true
   },
   "source": [
    "## Modos de indexação\n",
    "As arrays aceitam três tipos de indexação: por inteiros (parecido com listas), por listas de inteiros e por booleanas."
   ]
  },
  {
   "cell_type": "code",
   "execution_count": 14,
   "metadata": {
    "ExecuteTime": {
     "end_time": "2019-03-25T20:50:46.482718Z",
     "start_time": "2019-03-25T20:50:46.465212Z"
    }
   },
   "outputs": [
    {
     "data": {
      "text/plain": [
       "array([[ 1,  2,  3,  4],\n",
       "       [ 5,  6,  7,  8],\n",
       "       [ 9, 10, 11, 12]])"
      ]
     },
     "execution_count": 14,
     "metadata": {},
     "output_type": "execute_result"
    }
   ],
   "source": [
    "x = np.array([[1,2,3,4], [5,6,7,8], [9,10,11,12]])\n",
    "x"
   ]
  },
  {
   "cell_type": "code",
   "execution_count": 15,
   "metadata": {
    "ExecuteTime": {
     "end_time": "2019-03-25T20:50:46.502268Z",
     "start_time": "2019-03-25T20:50:46.484221Z"
    }
   },
   "outputs": [
    {
     "data": {
      "text/plain": [
       "array([1, 2, 3, 4])"
      ]
     },
     "execution_count": 15,
     "metadata": {},
     "output_type": "execute_result"
    }
   ],
   "source": [
    "x [0]"
   ]
  },
  {
   "cell_type": "code",
   "execution_count": 16,
   "metadata": {
    "ExecuteTime": {
     "end_time": "2019-03-25T20:50:46.515228Z",
     "start_time": "2019-03-25T20:50:46.503228Z"
    }
   },
   "outputs": [
    {
     "data": {
      "text/plain": [
       "2"
      ]
     },
     "execution_count": 16,
     "metadata": {},
     "output_type": "execute_result"
    }
   ],
   "source": [
    "x[0,1]"
   ]
  },
  {
   "cell_type": "code",
   "execution_count": 17,
   "metadata": {
    "ExecuteTime": {
     "end_time": "2019-03-25T20:50:46.531227Z",
     "start_time": "2019-03-25T20:50:46.517226Z"
    }
   },
   "outputs": [
    {
     "data": {
      "text/plain": [
       "12"
      ]
     },
     "execution_count": 17,
     "metadata": {},
     "output_type": "execute_result"
    }
   ],
   "source": [
    "x[2,3]"
   ]
  },
  {
   "cell_type": "code",
   "execution_count": 18,
   "metadata": {
    "ExecuteTime": {
     "end_time": "2019-03-25T20:50:46.547226Z",
     "start_time": "2019-03-25T20:50:46.532226Z"
    },
    "scrolled": true
   },
   "outputs": [
    {
     "data": {
      "text/plain": [
       "array([6, 7])"
      ]
     },
     "execution_count": 18,
     "metadata": {},
     "output_type": "execute_result"
    }
   ],
   "source": [
    "x[1, 1:3]"
   ]
  },
  {
   "cell_type": "code",
   "execution_count": 19,
   "metadata": {
    "ExecuteTime": {
     "end_time": "2019-03-25T20:50:46.560232Z",
     "start_time": "2019-03-25T20:50:46.548226Z"
    },
    "scrolled": true
   },
   "outputs": [
    {
     "data": {
      "text/plain": [
       "array([ 2,  6, 10])"
      ]
     },
     "execution_count": 19,
     "metadata": {},
     "output_type": "execute_result"
    }
   ],
   "source": [
    "x[:, 1]"
   ]
  },
  {
   "cell_type": "markdown",
   "metadata": {},
   "source": [
    "### Indexação por listas de inteiros"
   ]
  },
  {
   "cell_type": "code",
   "execution_count": 20,
   "metadata": {
    "ExecuteTime": {
     "end_time": "2019-03-25T20:50:46.576233Z",
     "start_time": "2019-03-25T20:50:46.562228Z"
    }
   },
   "outputs": [
    {
     "data": {
      "text/plain": [
       "array([[ 1,  2,  3,  4],\n",
       "       [ 5,  6,  7,  8],\n",
       "       [ 9, 10, 11, 12]])"
      ]
     },
     "execution_count": 20,
     "metadata": {},
     "output_type": "execute_result"
    }
   ],
   "source": [
    "x = np.array([[1,2,3,4], [5,6,7,8], [9,10,11,12]])\n",
    "x"
   ]
  },
  {
   "cell_type": "code",
   "execution_count": 21,
   "metadata": {
    "ExecuteTime": {
     "end_time": "2019-03-25T20:50:46.590241Z",
     "start_time": "2019-03-25T20:50:46.577732Z"
    }
   },
   "outputs": [
    {
     "data": {
      "text/plain": [
       "array([[ 1,  2,  3,  4],\n",
       "       [ 9, 10, 11, 12]])"
      ]
     },
     "execution_count": 21,
     "metadata": {},
     "output_type": "execute_result"
    }
   ],
   "source": [
    "x[[0,2]]"
   ]
  },
  {
   "cell_type": "code",
   "execution_count": 22,
   "metadata": {
    "ExecuteTime": {
     "end_time": "2019-03-25T20:50:46.610241Z",
     "start_time": "2019-03-25T20:50:46.592239Z"
    }
   },
   "outputs": [
    {
     "data": {
      "text/plain": [
       "array([[ 1,  2,  3,  4],\n",
       "       [ 9, 10, 11, 12],\n",
       "       [ 5,  6,  7,  8]])"
      ]
     },
     "execution_count": 22,
     "metadata": {},
     "output_type": "execute_result"
    }
   ],
   "source": [
    "#\"resorting\"\n",
    "x[[0,2,1]]"
   ]
  },
  {
   "cell_type": "code",
   "execution_count": 23,
   "metadata": {
    "ExecuteTime": {
     "end_time": "2019-03-25T20:50:46.629245Z",
     "start_time": "2019-03-25T20:50:46.612242Z"
    }
   },
   "outputs": [
    {
     "data": {
      "text/plain": [
       "array([[ 1,  2,  3,  4],\n",
       "       [ 5,  6,  7,  8],\n",
       "       [ 9, 10, 11, 12],\n",
       "       [ 5,  6,  7,  8],\n",
       "       [ 9, 10, 11, 12]])"
      ]
     },
     "execution_count": 23,
     "metadata": {},
     "output_type": "execute_result"
    }
   ],
   "source": [
    "# Também conseguimos duplicar linhas\n",
    "x[[0,1,2,1,2]]"
   ]
  },
  {
   "cell_type": "code",
   "execution_count": 24,
   "metadata": {
    "ExecuteTime": {
     "end_time": "2019-03-25T20:50:46.643239Z",
     "start_time": "2019-03-25T20:50:46.631243Z"
    }
   },
   "outputs": [
    {
     "data": {
      "text/plain": [
       "array([0, 1, 2])"
      ]
     },
     "execution_count": 24,
     "metadata": {},
     "output_type": "execute_result"
    }
   ],
   "source": [
    "np.arange(x.shape[0])"
   ]
  },
  {
   "cell_type": "markdown",
   "metadata": {},
   "source": [
    "### Indexação por array de booleanas\n",
    "Para indexação booleana, **o index precisa ser uma array**!"
   ]
  },
  {
   "cell_type": "code",
   "execution_count": 25,
   "metadata": {
    "ExecuteTime": {
     "end_time": "2019-03-25T20:50:46.656244Z",
     "start_time": "2019-03-25T20:50:46.645240Z"
    }
   },
   "outputs": [
    {
     "data": {
      "text/plain": [
       "array([[ 1,  2,  3,  4],\n",
       "       [ 5,  6,  7,  8],\n",
       "       [ 9, 10, 11, 12]])"
      ]
     },
     "execution_count": 25,
     "metadata": {},
     "output_type": "execute_result"
    }
   ],
   "source": [
    "x = np.array([[1,2,3,4], [5,6,7,8], [9,10,11,12]])\n",
    "x"
   ]
  },
  {
   "cell_type": "code",
   "execution_count": 26,
   "metadata": {
    "ExecuteTime": {
     "end_time": "2019-03-25T20:50:46.671240Z",
     "start_time": "2019-03-25T20:50:46.658246Z"
    }
   },
   "outputs": [
    {
     "data": {
      "text/plain": [
       "array([[False, False, False, False],\n",
       "       [False, False, False,  True],\n",
       "       [ True,  True,  True,  True]])"
      ]
     },
     "execution_count": 26,
     "metadata": {},
     "output_type": "execute_result"
    }
   ],
   "source": [
    "index = x > 7\n",
    "index"
   ]
  },
  {
   "cell_type": "code",
   "execution_count": 27,
   "metadata": {
    "ExecuteTime": {
     "end_time": "2019-03-25T20:50:46.687793Z",
     "start_time": "2019-03-25T20:50:46.673252Z"
    }
   },
   "outputs": [
    {
     "data": {
      "text/plain": [
       "array([ 8,  9, 10, 11, 12])"
      ]
     },
     "execution_count": 27,
     "metadata": {},
     "output_type": "execute_result"
    }
   ],
   "source": [
    "x[index]"
   ]
  },
  {
   "cell_type": "markdown",
   "metadata": {},
   "source": [
    "## Array computations\n",
    "Aqui vamos mostrar como as arrays se comportam diante de operações básicas.\n",
    "\n",
    "Note que ao realizar uma operação entre uma array e um número, a operação é feita com todos os elementos da array (broadcasting), ou seja, ao somarmos 2, vamos somar 2 para cada elemento da array.\n",
    "\n",
    "Se realizarmos uma operação entre duas arrays de mesmo shape, a operação será feita *elementwise*, ou seja, a operação é realizada entre elementos de posições correspondentes."
   ]
  },
  {
   "cell_type": "code",
   "execution_count": 28,
   "metadata": {
    "ExecuteTime": {
     "end_time": "2019-03-25T20:50:46.709788Z",
     "start_time": "2019-03-25T20:50:46.689787Z"
    }
   },
   "outputs": [],
   "source": [
    "x = np.array([[1,2],[3,4]])\n",
    "y = np.array([[5,6],[7,8]])"
   ]
  },
  {
   "cell_type": "code",
   "execution_count": 29,
   "metadata": {
    "ExecuteTime": {
     "end_time": "2019-03-25T20:50:46.725790Z",
     "start_time": "2019-03-25T20:50:46.711790Z"
    }
   },
   "outputs": [
    {
     "data": {
      "text/plain": [
       "array([[3, 4],\n",
       "       [5, 6]])"
      ]
     },
     "execution_count": 29,
     "metadata": {},
     "output_type": "execute_result"
    }
   ],
   "source": [
    "x + 2"
   ]
  },
  {
   "cell_type": "code",
   "execution_count": 30,
   "metadata": {
    "ExecuteTime": {
     "end_time": "2019-03-25T20:50:46.742790Z",
     "start_time": "2019-03-25T20:50:46.727788Z"
    },
    "scrolled": true
   },
   "outputs": [
    {
     "data": {
      "text/plain": [
       "array([[ 5, 10],\n",
       "       [15, 20]])"
      ]
     },
     "execution_count": 30,
     "metadata": {},
     "output_type": "execute_result"
    }
   ],
   "source": [
    "x * 5"
   ]
  },
  {
   "cell_type": "code",
   "execution_count": 31,
   "metadata": {
    "ExecuteTime": {
     "end_time": "2019-03-25T20:50:46.756790Z",
     "start_time": "2019-03-25T20:50:46.744787Z"
    }
   },
   "outputs": [
    {
     "data": {
      "text/plain": [
       "array([[ 6,  8],\n",
       "       [10, 12]])"
      ]
     },
     "execution_count": 31,
     "metadata": {},
     "output_type": "execute_result"
    }
   ],
   "source": [
    "x + y"
   ]
  },
  {
   "cell_type": "code",
   "execution_count": 32,
   "metadata": {
    "ExecuteTime": {
     "end_time": "2019-03-25T20:50:46.770790Z",
     "start_time": "2019-03-25T20:50:46.759790Z"
    }
   },
   "outputs": [
    {
     "data": {
      "text/plain": [
       "array([[-4, -4],\n",
       "       [-4, -4]])"
      ]
     },
     "execution_count": 32,
     "metadata": {},
     "output_type": "execute_result"
    }
   ],
   "source": [
    "x - y"
   ]
  },
  {
   "cell_type": "code",
   "execution_count": 33,
   "metadata": {
    "ExecuteTime": {
     "end_time": "2019-03-25T20:50:46.786803Z",
     "start_time": "2019-03-25T20:50:46.772803Z"
    }
   },
   "outputs": [
    {
     "data": {
      "text/plain": [
       "array([[ 5, 12],\n",
       "       [21, 32]])"
      ]
     },
     "execution_count": 33,
     "metadata": {},
     "output_type": "execute_result"
    }
   ],
   "source": [
    "## Elementwise multiplication!\n",
    "x * y"
   ]
  },
  {
   "cell_type": "code",
   "execution_count": 34,
   "metadata": {
    "ExecuteTime": {
     "end_time": "2019-03-25T20:50:46.800918Z",
     "start_time": "2019-03-25T20:50:46.787915Z"
    }
   },
   "outputs": [
    {
     "data": {
      "text/plain": [
       "array([[0.2       , 0.33333333],\n",
       "       [0.42857143, 0.5       ]])"
      ]
     },
     "execution_count": 34,
     "metadata": {},
     "output_type": "execute_result"
    }
   ],
   "source": [
    "x / y"
   ]
  },
  {
   "cell_type": "markdown",
   "metadata": {},
   "source": [
    "### [numpy functions](https://docs.scipy.org/doc/numpy-1.13.0/reference/routines.math.html)\n",
    "Aqui vamos exemplificar algumas funções próprias do numpy.\n",
    "\n",
    "Note que conseguimos realizar algumas operações (sqrt, sin, ...) para todos os elementos da array, o que não é possível para listas."
   ]
  },
  {
   "cell_type": "code",
   "execution_count": 35,
   "metadata": {
    "ExecuteTime": {
     "end_time": "2019-03-25T20:50:46.814917Z",
     "start_time": "2019-03-25T20:50:46.802914Z"
    }
   },
   "outputs": [
    {
     "data": {
      "text/plain": [
       "array([[1.        , 1.41421356],\n",
       "       [1.73205081, 2.        ]])"
      ]
     },
     "execution_count": 35,
     "metadata": {},
     "output_type": "execute_result"
    }
   ],
   "source": [
    "np.sqrt(x)"
   ]
  },
  {
   "cell_type": "code",
   "execution_count": 36,
   "metadata": {
    "ExecuteTime": {
     "end_time": "2019-03-25T20:50:46.836918Z",
     "start_time": "2019-03-25T20:50:46.816919Z"
    },
    "scrolled": false
   },
   "outputs": [
    {
     "data": {
      "text/plain": [
       "array([[ 0.84147098,  0.90929743],\n",
       "       [ 0.14112001, -0.7568025 ]])"
      ]
     },
     "execution_count": 36,
     "metadata": {},
     "output_type": "execute_result"
    }
   ],
   "source": [
    "np.sin(x)"
   ]
  },
  {
   "cell_type": "code",
   "execution_count": 37,
   "metadata": {
    "ExecuteTime": {
     "end_time": "2019-03-25T20:50:46.858922Z",
     "start_time": "2019-03-25T20:50:46.838917Z"
    }
   },
   "outputs": [
    {
     "data": {
      "text/plain": [
       "array([17, 39])"
      ]
     },
     "execution_count": 37,
     "metadata": {},
     "output_type": "execute_result"
    }
   ],
   "source": [
    "x = np.array([[1,2],[3,4]])\n",
    "y = np.array([5,6])\n",
    "np.dot(x,y)"
   ]
  },
  {
   "cell_type": "code",
   "execution_count": 38,
   "metadata": {
    "ExecuteTime": {
     "end_time": "2019-03-25T20:50:46.878427Z",
     "start_time": "2019-03-25T20:50:46.867914Z"
    }
   },
   "outputs": [
    {
     "data": {
      "text/plain": [
       "array([1, 2, 3, 4, 5, 6, 7, 8])"
      ]
     },
     "execution_count": 38,
     "metadata": {},
     "output_type": "execute_result"
    }
   ],
   "source": [
    "x = np.array([1,2,3,4,5,6,7,8])\n",
    "x"
   ]
  },
  {
   "cell_type": "code",
   "execution_count": 39,
   "metadata": {
    "ExecuteTime": {
     "end_time": "2019-03-25T20:50:46.894428Z",
     "start_time": "2019-03-25T20:50:46.880924Z"
    }
   },
   "outputs": [
    {
     "data": {
      "text/plain": [
       "36"
      ]
     },
     "execution_count": 39,
     "metadata": {},
     "output_type": "execute_result"
    }
   ],
   "source": [
    "x.sum()"
   ]
  },
  {
   "cell_type": "code",
   "execution_count": 40,
   "metadata": {
    "ExecuteTime": {
     "end_time": "2019-03-25T20:50:46.908428Z",
     "start_time": "2019-03-25T20:50:46.895431Z"
    }
   },
   "outputs": [
    {
     "data": {
      "text/plain": [
       "4.5"
      ]
     },
     "execution_count": 40,
     "metadata": {},
     "output_type": "execute_result"
    }
   ],
   "source": [
    "x.mean()"
   ]
  },
  {
   "cell_type": "code",
   "execution_count": 41,
   "metadata": {
    "ExecuteTime": {
     "end_time": "2019-03-25T20:50:46.921429Z",
     "start_time": "2019-03-25T20:50:46.909427Z"
    }
   },
   "outputs": [
    {
     "data": {
      "text/plain": [
       "array([ 1,  3,  6, 10, 15, 21, 28, 36], dtype=int32)"
      ]
     },
     "execution_count": 41,
     "metadata": {},
     "output_type": "execute_result"
    }
   ],
   "source": [
    "np.cumsum(x)"
   ]
  },
  {
   "cell_type": "code",
   "execution_count": 42,
   "metadata": {
    "ExecuteTime": {
     "end_time": "2019-03-25T20:50:46.938429Z",
     "start_time": "2019-03-25T20:50:46.923429Z"
    }
   },
   "outputs": [
    {
     "data": {
      "text/plain": [
       "array([[ 1,  2,  3,  4,  5,  6,  7,  8],\n",
       "       [11, 12, 13, 14, 15, 16, 17, 18],\n",
       "       [21, 22, 23, 24, 25, 26, 27, 28]])"
      ]
     },
     "execution_count": 42,
     "metadata": {},
     "output_type": "execute_result"
    }
   ],
   "source": [
    "x = np.array([[1,2,3,4,5,6,7,8], [11,12,13,14,15,16,17,18], [21,22,23,24,25,26,27,28]])\n",
    "x"
   ]
  },
  {
   "cell_type": "code",
   "execution_count": 43,
   "metadata": {
    "ExecuteTime": {
     "end_time": "2019-03-25T20:50:46.955428Z",
     "start_time": "2019-03-25T20:50:46.940426Z"
    }
   },
   "outputs": [
    {
     "data": {
      "text/plain": [
       "array([ 36, 116, 196])"
      ]
     },
     "execution_count": 43,
     "metadata": {},
     "output_type": "execute_result"
    }
   ],
   "source": [
    "x.sum(axis=1)"
   ]
  },
  {
   "cell_type": "code",
   "execution_count": 44,
   "metadata": {
    "ExecuteTime": {
     "end_time": "2019-03-25T20:50:46.971428Z",
     "start_time": "2019-03-25T20:50:46.956426Z"
    }
   },
   "outputs": [
    {
     "data": {
      "text/plain": [
       "array([11., 12., 13., 14., 15., 16., 17., 18.])"
      ]
     },
     "execution_count": 44,
     "metadata": {},
     "output_type": "execute_result"
    }
   ],
   "source": [
    "x.mean(axis=0)"
   ]
  },
  {
   "cell_type": "markdown",
   "metadata": {},
   "source": [
    "## Broadcasting\n",
    "Uma das mais importantes propriedades das arrays é a capaciade de broadcasting.\n",
    "\n",
    "Broadcasting é feito entre duas arrays de [dimensões compatíveis](https://docs.scipy.org/doc/numpy/user/basics.broadcasting.html), ou seja, da direita para a esquerda, as dimensões devem ser de mesmo tamanho ou uma delas deve ser igual a 1.\n",
    "\n",
    "ex:\n",
    "```\n",
    "shape 1: 8x1x3x4\n",
    "shape 2:   6x3x1\n",
    "result : 8x6x3x4\n",
    "```"
   ]
  },
  {
   "cell_type": "code",
   "execution_count": 45,
   "metadata": {
    "ExecuteTime": {
     "end_time": "2019-03-25T20:50:46.990028Z",
     "start_time": "2019-03-25T20:50:46.973442Z"
    },
    "scrolled": true
   },
   "outputs": [
    {
     "data": {
      "text/plain": [
       "array([[4, 5, 2],\n",
       "       [3, 3, 5],\n",
       "       [4, 0, 5],\n",
       "       [0, 2, 0],\n",
       "       [0, 3, 0],\n",
       "       [2, 0, 3],\n",
       "       [5, 4, 2],\n",
       "       [4, 1, 1],\n",
       "       [1, 2, 2],\n",
       "       [0, 4, 0],\n",
       "       [5, 4, 4],\n",
       "       [3, 3, 5],\n",
       "       [1, 2, 5],\n",
       "       [1, 1, 5],\n",
       "       [3, 1, 1],\n",
       "       [1, 4, 4],\n",
       "       [4, 3, 4],\n",
       "       [3, 0, 4],\n",
       "       [1, 5, 3],\n",
       "       [4, 3, 1],\n",
       "       [0, 1, 0],\n",
       "       [4, 2, 0],\n",
       "       [5, 0, 5],\n",
       "       [0, 5, 4],\n",
       "       [0, 1, 4],\n",
       "       [4, 5, 2],\n",
       "       [2, 1, 4],\n",
       "       [3, 0, 5],\n",
       "       [5, 3, 0],\n",
       "       [0, 2, 2],\n",
       "       [2, 1, 1],\n",
       "       [1, 2, 2],\n",
       "       [5, 0, 5],\n",
       "       [0, 3, 1],\n",
       "       [1, 3, 0],\n",
       "       [1, 1, 0],\n",
       "       [4, 0, 1],\n",
       "       [1, 1, 2],\n",
       "       [1, 4, 1],\n",
       "       [4, 5, 5],\n",
       "       [1, 1, 0],\n",
       "       [1, 2, 4],\n",
       "       [1, 0, 4],\n",
       "       [3, 5, 3],\n",
       "       [5, 4, 4],\n",
       "       [0, 2, 4],\n",
       "       [3, 1, 3],\n",
       "       [4, 1, 4],\n",
       "       [0, 2, 1],\n",
       "       [0, 4, 3],\n",
       "       [3, 5, 0],\n",
       "       [4, 5, 1],\n",
       "       [0, 3, 2],\n",
       "       [2, 3, 2],\n",
       "       [4, 5, 2],\n",
       "       [3, 0, 4],\n",
       "       [5, 2, 1],\n",
       "       [5, 1, 1],\n",
       "       [1, 1, 5],\n",
       "       [1, 2, 2],\n",
       "       [2, 5, 5],\n",
       "       [2, 0, 1],\n",
       "       [2, 3, 5],\n",
       "       [2, 1, 1],\n",
       "       [4, 0, 5],\n",
       "       [3, 2, 1],\n",
       "       [3, 4, 5],\n",
       "       [5, 0, 5],\n",
       "       [5, 2, 1],\n",
       "       [2, 5, 3],\n",
       "       [2, 0, 0],\n",
       "       [1, 1, 3],\n",
       "       [0, 3, 3],\n",
       "       [2, 1, 5],\n",
       "       [0, 0, 3],\n",
       "       [5, 1, 3],\n",
       "       [0, 5, 5],\n",
       "       [1, 0, 0],\n",
       "       [1, 2, 3],\n",
       "       [4, 0, 2],\n",
       "       [3, 0, 2],\n",
       "       [2, 3, 0],\n",
       "       [2, 2, 1],\n",
       "       [4, 5, 5],\n",
       "       [0, 3, 3],\n",
       "       [0, 0, 0],\n",
       "       [1, 0, 5],\n",
       "       [5, 5, 5],\n",
       "       [0, 2, 5],\n",
       "       [2, 2, 3],\n",
       "       [5, 3, 4],\n",
       "       [3, 3, 5],\n",
       "       [4, 4, 2],\n",
       "       [3, 1, 4],\n",
       "       [4, 2, 0],\n",
       "       [1, 0, 2],\n",
       "       [4, 5, 1],\n",
       "       [4, 5, 3],\n",
       "       [0, 0, 2],\n",
       "       [5, 4, 1]])"
      ]
     },
     "execution_count": 45,
     "metadata": {},
     "output_type": "execute_result"
    }
   ],
   "source": [
    "x = np.random.randint(6, size=(100,3))\n",
    "x"
   ]
  },
  {
   "cell_type": "code",
   "execution_count": 46,
   "metadata": {
    "ExecuteTime": {
     "end_time": "2019-03-25T20:50:47.007026Z",
     "start_time": "2019-03-25T20:50:46.991026Z"
    },
    "scrolled": true
   },
   "outputs": [
    {
     "data": {
      "text/plain": [
       "array([[104, 105, 102],\n",
       "       [103, 103, 105],\n",
       "       [104, 100, 105],\n",
       "       [100, 102, 100],\n",
       "       [100, 103, 100],\n",
       "       [102, 100, 103],\n",
       "       [105, 104, 102],\n",
       "       [104, 101, 101],\n",
       "       [101, 102, 102],\n",
       "       [100, 104, 100],\n",
       "       [105, 104, 104],\n",
       "       [103, 103, 105],\n",
       "       [101, 102, 105],\n",
       "       [101, 101, 105],\n",
       "       [103, 101, 101],\n",
       "       [101, 104, 104],\n",
       "       [104, 103, 104],\n",
       "       [103, 100, 104],\n",
       "       [101, 105, 103],\n",
       "       [104, 103, 101],\n",
       "       [100, 101, 100],\n",
       "       [104, 102, 100],\n",
       "       [105, 100, 105],\n",
       "       [100, 105, 104],\n",
       "       [100, 101, 104],\n",
       "       [104, 105, 102],\n",
       "       [102, 101, 104],\n",
       "       [103, 100, 105],\n",
       "       [105, 103, 100],\n",
       "       [100, 102, 102],\n",
       "       [102, 101, 101],\n",
       "       [101, 102, 102],\n",
       "       [105, 100, 105],\n",
       "       [100, 103, 101],\n",
       "       [101, 103, 100],\n",
       "       [101, 101, 100],\n",
       "       [104, 100, 101],\n",
       "       [101, 101, 102],\n",
       "       [101, 104, 101],\n",
       "       [104, 105, 105],\n",
       "       [101, 101, 100],\n",
       "       [101, 102, 104],\n",
       "       [101, 100, 104],\n",
       "       [103, 105, 103],\n",
       "       [105, 104, 104],\n",
       "       [100, 102, 104],\n",
       "       [103, 101, 103],\n",
       "       [104, 101, 104],\n",
       "       [100, 102, 101],\n",
       "       [100, 104, 103],\n",
       "       [103, 105, 100],\n",
       "       [104, 105, 101],\n",
       "       [100, 103, 102],\n",
       "       [102, 103, 102],\n",
       "       [104, 105, 102],\n",
       "       [103, 100, 104],\n",
       "       [105, 102, 101],\n",
       "       [105, 101, 101],\n",
       "       [101, 101, 105],\n",
       "       [101, 102, 102],\n",
       "       [102, 105, 105],\n",
       "       [102, 100, 101],\n",
       "       [102, 103, 105],\n",
       "       [102, 101, 101],\n",
       "       [104, 100, 105],\n",
       "       [103, 102, 101],\n",
       "       [103, 104, 105],\n",
       "       [105, 100, 105],\n",
       "       [105, 102, 101],\n",
       "       [102, 105, 103],\n",
       "       [102, 100, 100],\n",
       "       [101, 101, 103],\n",
       "       [100, 103, 103],\n",
       "       [102, 101, 105],\n",
       "       [100, 100, 103],\n",
       "       [105, 101, 103],\n",
       "       [100, 105, 105],\n",
       "       [101, 100, 100],\n",
       "       [101, 102, 103],\n",
       "       [104, 100, 102],\n",
       "       [103, 100, 102],\n",
       "       [102, 103, 100],\n",
       "       [102, 102, 101],\n",
       "       [104, 105, 105],\n",
       "       [100, 103, 103],\n",
       "       [100, 100, 100],\n",
       "       [101, 100, 105],\n",
       "       [105, 105, 105],\n",
       "       [100, 102, 105],\n",
       "       [102, 102, 103],\n",
       "       [105, 103, 104],\n",
       "       [103, 103, 105],\n",
       "       [104, 104, 102],\n",
       "       [103, 101, 104],\n",
       "       [104, 102, 100],\n",
       "       [101, 100, 102],\n",
       "       [104, 105, 101],\n",
       "       [104, 105, 103],\n",
       "       [100, 100, 102],\n",
       "       [105, 104, 101]])"
      ]
     },
     "execution_count": 46,
     "metadata": {},
     "output_type": "execute_result"
    }
   ],
   "source": [
    "x + 100"
   ]
  },
  {
   "cell_type": "code",
   "execution_count": 47,
   "metadata": {
    "ExecuteTime": {
     "end_time": "2019-03-25T20:50:47.026031Z",
     "start_time": "2019-03-25T20:50:47.008030Z"
    },
    "scrolled": true
   },
   "outputs": [
    {
     "name": "stdout",
     "output_type": "stream",
     "text": [
      "(100, 3)\n",
      "(3,)\n"
     ]
    },
    {
     "data": {
      "text/plain": [
       "array([[ 9, 15,  7],\n",
       "       [ 8, 13, 10],\n",
       "       [ 9, 10, 10],\n",
       "       [ 5, 12,  5],\n",
       "       [ 5, 13,  5],\n",
       "       [ 7, 10,  8],\n",
       "       [10, 14,  7],\n",
       "       [ 9, 11,  6],\n",
       "       [ 6, 12,  7],\n",
       "       [ 5, 14,  5],\n",
       "       [10, 14,  9],\n",
       "       [ 8, 13, 10],\n",
       "       [ 6, 12, 10],\n",
       "       [ 6, 11, 10],\n",
       "       [ 8, 11,  6],\n",
       "       [ 6, 14,  9],\n",
       "       [ 9, 13,  9],\n",
       "       [ 8, 10,  9],\n",
       "       [ 6, 15,  8],\n",
       "       [ 9, 13,  6],\n",
       "       [ 5, 11,  5],\n",
       "       [ 9, 12,  5],\n",
       "       [10, 10, 10],\n",
       "       [ 5, 15,  9],\n",
       "       [ 5, 11,  9],\n",
       "       [ 9, 15,  7],\n",
       "       [ 7, 11,  9],\n",
       "       [ 8, 10, 10],\n",
       "       [10, 13,  5],\n",
       "       [ 5, 12,  7],\n",
       "       [ 7, 11,  6],\n",
       "       [ 6, 12,  7],\n",
       "       [10, 10, 10],\n",
       "       [ 5, 13,  6],\n",
       "       [ 6, 13,  5],\n",
       "       [ 6, 11,  5],\n",
       "       [ 9, 10,  6],\n",
       "       [ 6, 11,  7],\n",
       "       [ 6, 14,  6],\n",
       "       [ 9, 15, 10],\n",
       "       [ 6, 11,  5],\n",
       "       [ 6, 12,  9],\n",
       "       [ 6, 10,  9],\n",
       "       [ 8, 15,  8],\n",
       "       [10, 14,  9],\n",
       "       [ 5, 12,  9],\n",
       "       [ 8, 11,  8],\n",
       "       [ 9, 11,  9],\n",
       "       [ 5, 12,  6],\n",
       "       [ 5, 14,  8],\n",
       "       [ 8, 15,  5],\n",
       "       [ 9, 15,  6],\n",
       "       [ 5, 13,  7],\n",
       "       [ 7, 13,  7],\n",
       "       [ 9, 15,  7],\n",
       "       [ 8, 10,  9],\n",
       "       [10, 12,  6],\n",
       "       [10, 11,  6],\n",
       "       [ 6, 11, 10],\n",
       "       [ 6, 12,  7],\n",
       "       [ 7, 15, 10],\n",
       "       [ 7, 10,  6],\n",
       "       [ 7, 13, 10],\n",
       "       [ 7, 11,  6],\n",
       "       [ 9, 10, 10],\n",
       "       [ 8, 12,  6],\n",
       "       [ 8, 14, 10],\n",
       "       [10, 10, 10],\n",
       "       [10, 12,  6],\n",
       "       [ 7, 15,  8],\n",
       "       [ 7, 10,  5],\n",
       "       [ 6, 11,  8],\n",
       "       [ 5, 13,  8],\n",
       "       [ 7, 11, 10],\n",
       "       [ 5, 10,  8],\n",
       "       [10, 11,  8],\n",
       "       [ 5, 15, 10],\n",
       "       [ 6, 10,  5],\n",
       "       [ 6, 12,  8],\n",
       "       [ 9, 10,  7],\n",
       "       [ 8, 10,  7],\n",
       "       [ 7, 13,  5],\n",
       "       [ 7, 12,  6],\n",
       "       [ 9, 15, 10],\n",
       "       [ 5, 13,  8],\n",
       "       [ 5, 10,  5],\n",
       "       [ 6, 10, 10],\n",
       "       [10, 15, 10],\n",
       "       [ 5, 12, 10],\n",
       "       [ 7, 12,  8],\n",
       "       [10, 13,  9],\n",
       "       [ 8, 13, 10],\n",
       "       [ 9, 14,  7],\n",
       "       [ 8, 11,  9],\n",
       "       [ 9, 12,  5],\n",
       "       [ 6, 10,  7],\n",
       "       [ 9, 15,  6],\n",
       "       [ 9, 15,  8],\n",
       "       [ 5, 10,  7],\n",
       "       [10, 14,  6]])"
      ]
     },
     "execution_count": 47,
     "metadata": {},
     "output_type": "execute_result"
    }
   ],
   "source": [
    "v = np.array([5,10,5])\n",
    "print (x.shape)\n",
    "print (v.shape)\n",
    "x + v"
   ]
  },
  {
   "cell_type": "markdown",
   "metadata": {},
   "source": [
    "## [Funções vetorizadas](https://docs.scipy.org/doc/numpy/reference/generated/numpy.vectorize.html)\n",
    "\n",
    "Podemos modificar funções para que elas se comportem de acordo com as regras de broadcasting do numpy."
   ]
  },
  {
   "cell_type": "code",
   "execution_count": 48,
   "metadata": {
    "ExecuteTime": {
     "end_time": "2019-03-25T20:50:47.038027Z",
     "start_time": "2019-03-25T20:50:47.027027Z"
    }
   },
   "outputs": [],
   "source": [
    "def div_mult (a,b):\n",
    "    if a > b:\n",
    "        return a/b\n",
    "    else:\n",
    "        return a*b"
   ]
  },
  {
   "cell_type": "code",
   "execution_count": 49,
   "metadata": {
    "ExecuteTime": {
     "end_time": "2019-03-25T20:50:47.071032Z",
     "start_time": "2019-03-25T20:50:47.040027Z"
    }
   },
   "outputs": [],
   "source": [
    "x = np.random.randint (1000, size=(1000000,1)) + 1\n",
    "y = np.random.randint (1000, size=(1000000,1)) + 1"
   ]
  },
  {
   "cell_type": "code",
   "execution_count": 50,
   "metadata": {
    "ExecuteTime": {
     "end_time": "2019-03-25T20:50:47.076039Z",
     "start_time": "2019-03-25T20:50:47.073041Z"
    }
   },
   "outputs": [],
   "source": [
    "vec_div_mult = np.vectorize(div_mult)"
   ]
  },
  {
   "cell_type": "code",
   "execution_count": 51,
   "metadata": {
    "ExecuteTime": {
     "end_time": "2019-03-25T20:50:47.399664Z",
     "start_time": "2019-03-25T20:50:47.077539Z"
    }
   },
   "outputs": [
    {
     "data": {
      "text/plain": [
       "array([[2.43548387e+00],\n",
       "       [3.21301775e+00],\n",
       "       [2.93139000e+05],\n",
       "       ...,\n",
       "       [5.96480000e+04],\n",
       "       [4.34910000e+05],\n",
       "       [1.14360000e+04]])"
      ]
     },
     "execution_count": 51,
     "metadata": {},
     "output_type": "execute_result"
    }
   ],
   "source": [
    "vec_div_mult(x,y)"
   ]
  },
  {
   "cell_type": "markdown",
   "metadata": {
    "ExecuteTime": {
     "end_time": "2019-03-25T20:50:31.713474Z",
     "start_time": "2019-03-25T20:50:31.708973Z"
    }
   },
   "source": [
    "##### Contribuidores: \n",
    "  - Kazu\n"
   ]
  }
 ],
 "metadata": {
  "kernelspec": {
   "display_name": "Python 3",
   "language": "python",
   "name": "python3"
  },
  "language_info": {
   "codemirror_mode": {
    "name": "ipython",
    "version": 3
   },
   "file_extension": ".py",
   "mimetype": "text/x-python",
   "name": "python",
   "nbconvert_exporter": "python",
   "pygments_lexer": "ipython3",
   "version": "3.7.1"
  }
 },
 "nbformat": 4,
 "nbformat_minor": 2
}
