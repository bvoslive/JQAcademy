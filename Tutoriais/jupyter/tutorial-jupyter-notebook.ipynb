{
 "cells": [
  {
   "cell_type": "markdown",
   "metadata": {},
   "source": [
    "# Jupyter Notebook\n",
    "##### Data: 25/03/2019\n",
    "\n",
    "Olá, aqui vamos explorar um pouco das funcionalidades do Jupyter e aprender a utilizá-las para avançar de maneira mais eficiente nos nossos tutoriais.\n",
    "\n",
    "Os arquivos do jupyter tem o nome de \"notebooks\" e duas grandes características deles são sua composição em **células** e sua capacidade **iterativa**. O que eu quero dizer com isso é que o código pode ser distribuído em pequenos blocos (\"células\") que podem ser executados separadamente, um por um, ou todos juntos, e ainda conseguimos ver os resultados a cada célula executada.\n",
    "\n",
    "Vamos entrar em ação! Selecione a célula abaixo e execute o seu conteúdo apertando **ctrl+ENTER**."
   ]
  },
  {
   "cell_type": "code",
   "execution_count": 1,
   "metadata": {
    "ExecuteTime": {
     "end_time": "2019-03-22T18:48:26.729796Z",
     "start_time": "2019-03-22T18:48:26.716795Z"
    }
   },
   "outputs": [
    {
     "data": {
      "text/plain": [
       "1"
      ]
     },
     "execution_count": 1,
     "metadata": {},
     "output_type": "execute_result"
    }
   ],
   "source": [
    "1"
   ]
  },
  {
   "cell_type": "markdown",
   "metadata": {},
   "source": [
    "Note que a célula onde escrevemos é chamada de __In__ seguida de um número, isso acontece porque o notebook mantém uma contagem de execução de célula, ou seja, a segunda célula que eu executar terá o número 2, a terceira terá o número 3 e assim sucessivamente.\n",
    "\n",
    "Note também que abaixo dessa célula temos a informação **Out**, correspondente àquilo que a célula está programada a sair.\n",
    "\n",
    "Vamos rodar as próximas duas células, desta vez clique na célula abaixo e aperte **shift+ENTER** duas vezes. Este comando executará a célula atual e selecionará a próxima célula. "
   ]
  },
  {
   "cell_type": "code",
   "execution_count": 2,
   "metadata": {
    "ExecuteTime": {
     "end_time": "2019-03-22T18:48:26.742799Z",
     "start_time": "2019-03-22T18:48:26.731794Z"
    }
   },
   "outputs": [
    {
     "data": {
      "text/plain": [
       "2"
      ]
     },
     "execution_count": 2,
     "metadata": {},
     "output_type": "execute_result"
    }
   ],
   "source": [
    "1+1"
   ]
  },
  {
   "cell_type": "code",
   "execution_count": 3,
   "metadata": {
    "ExecuteTime": {
     "end_time": "2019-03-22T18:48:26.759795Z",
     "start_time": "2019-03-22T18:48:26.744794Z"
    }
   },
   "outputs": [
    {
     "data": {
      "text/plain": [
       "63"
      ]
     },
     "execution_count": 3,
     "metadata": {},
     "output_type": "execute_result"
    }
   ],
   "source": [
    "7*9"
   ]
  },
  {
   "cell_type": "markdown",
   "metadata": {},
   "source": [
    "Como conseguimos rodar uma célula de cada vez, isso nos permite executar as células fora de ordem, o que não costuma ser uma boa prática de programação. **Porém**, facilita muito quando queremos fazer prototipações e verificar rapidamente se o código está realizando o que desejamos.\n",
    "\n",
    "Agora que já sabemos rodar células, você já está pronto para começar a programar!\n",
    "\n",
    "Mas antes vamos falar de alguns comandos que podem ser úteis ao longo da sua jornada. \n"
   ]
  },
  {
   "cell_type": "markdown",
   "metadata": {},
   "source": [
    "## Atalhos\n",
    "No topo da página, você irá encontrar a barra de ferramentas do Jupyter, selecionando **Help** e em seguida **Keyboard Shortcuts**, você encontra todos os comandos. Calma, você não precisa decorar todos agora, vamos falar aqui dos mais importantes e com a prática você vai se acostumar com os mais usuais (e o resto, basta consultar quando houver necessidade).\n",
    "\n",
    "Note que esta aba de atalhos nos informa de dois modos: **Command Mode** e **Edit Mode**.\n",
    "\n",
    "- Ao selecionar uma célula, note que existe uma barra e um contorno **verde** em volta da célula selecionada, isso nos indica que estamos no **Edit Mode**, ou modo edição.\n",
    "- Se agora apertarmos **esc**, essa barra e contorno se tornará **azul** e estaremos no modo de comandos, ou **Command Mode**. A partir desse modo, podemos utilizar as setas para cima e para baixo para navegarmos entre células, e então apertar **Enter** para entrarmos no modo edição.\n"
   ]
  },
  {
   "cell_type": "markdown",
   "metadata": {},
   "source": [
    "### - Command Mode\n",
    "Vou colocar aqui os atalhos que são mais usuais, você consegue realizar todos esses comandos sem saber esses atalhos, basta dar uma explorada na barra de ferramentas no topo da página. \n",
    "\n",
    "- **A**: insert cell above\n",
    "- **B**: insert cell below\n",
    "- **X**: cut selected cells\n",
    "- **C**: copy selected cells\n",
    "- **V**: paste cells below\n",
    "- **Z**: undo cell deletion\n",
    "- **D,D**: delete selected cells\n",
    "- **Y**: change cell to code\n",
    "- **M**: change cell to markdown\n",
    "\n",
    "Existem alguns tipos de cells, os principais são \"code\" e \"markdown\". \n",
    "- \"Code\" são células que vão interpretar o texto que está escrito nelas como código e executar este código, \n",
    "- \"Markdown\" são células que vão interpretar o texto como texto, possuem formatação bem usual, mas se você não estiver acostumado, pode sempre consultar o Google ou [a documentação](https://jupyter-notebook.readthedocs.io/en/stable/examples/Notebook/Working%20With%20Markdown%20Cells.html)."
   ]
  },
  {
   "cell_type": "markdown",
   "metadata": {},
   "source": [
    "### - Edit Mode\n",
    "De novo, apenas atalhos mais usuais.\n",
    "\n",
    "- **Tab**: code completion or indent\n",
    "- **Ctrl+/**: comment\n",
    "- **Shift+Enter**: run cell, select below\n",
    "- **Ctrl+Enter**: run selected cells\n",
    "- **Alt+Enter**: run cell and insert below"
   ]
  },
  {
   "cell_type": "markdown",
   "metadata": {
    "ExecuteTime": {
     "end_time": "2019-03-22T18:43:24.075467Z",
     "start_time": "2019-03-22T18:43:24.069467Z"
    }
   },
   "source": [
    "## Obrigado!\n",
    "Se sentiu falta de alguma coisa ou quer fazer perguntas, dar sugestões ou só vir conhecer a gente, visite [nosso slack J!QAcademy](https://bit.ly/Jqaslack)! \n",
    "\n",
    "Veja também nossos outros tutoriais."
   ]
  },
  {
   "cell_type": "markdown",
   "metadata": {
    "ExecuteTime": {
     "end_time": "2019-03-22T18:49:07.180741Z",
     "start_time": "2019-03-22T18:49:07.177742Z"
    }
   },
   "source": [
    "##### Contribuidores: \n",
    "  - Kazu\n"
   ]
  }
 ],
 "metadata": {
  "kernelspec": {
   "display_name": "Python 3",
   "language": "python",
   "name": "python3"
  },
  "language_info": {
   "codemirror_mode": {
    "name": "ipython",
    "version": 3
   },
   "file_extension": ".py",
   "mimetype": "text/x-python",
   "name": "python",
   "nbconvert_exporter": "python",
   "pygments_lexer": "ipython3",
   "version": "3.7.1"
  }
 },
 "nbformat": 4,
 "nbformat_minor": 2
}
